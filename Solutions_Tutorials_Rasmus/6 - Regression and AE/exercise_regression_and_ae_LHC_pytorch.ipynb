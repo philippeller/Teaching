{
 "cells": [
  {
   "cell_type": "markdown",
   "metadata": {},
   "source": [
    "**ML Challenge** \n",
    "\n",
    "    Find an interesting dataset (you can also use the Boston housing dataset as discussed in the lecture) or look around (see e.g. kaggle.com) to perform regression on.\n",
    "\n",
    "Alright - this time I'll load in simulated collision data from LHC. You can download it here: https://drive.google.com/file/d/1m_JQs8nt8jXbDFAQPG__Azz0AvzOYHxV/view?usp=sharing\n",
    "\n",
    "It has the following description:\n",
    "\n",
    "The data consist of 162500/160650 (train/test) simulated particle collisions and interactions in the ATLAS detector, situated at CERN's LHC accelerator ourside Geneva. Colliding protons, one is interested in collisions, which produce e.g. electrons (as thus new particles decaying to electrons must have been produced, since there are no electrons inside protons). Electrons interact in a particular way in the detector, leaving a distinct signature different signature than other particles. Each candidate in the file is described by 166 variables.\n",
    "As the data is simulated, the \"ground truth\" is known, and we thus have perfect labels (for both particle type and energy), which we can use for the supervised training."
   ]
  },
  {
   "cell_type": "code",
   "execution_count": 1,
   "metadata": {},
   "outputs": [
    {
     "data": {
      "text/plain": [
       "(121495, 166)"
      ]
     },
     "execution_count": 1,
     "metadata": {},
     "output_type": "execute_result"
    }
   ],
   "source": [
    "import h5py\n",
    "import pandas as pd\n",
    "import numpy as np\n",
    "\n",
    "def load_data(name):\n",
    "    with h5py.File(f'{name}.h5', 'r') as f:\n",
    "        return pd.DataFrame(f['train'][:], dtype=np.float64)\n",
    "data = load_data('LHC_electrons')\n",
    "data = data.loc[data['Truth'] == 1,:].reset_index(drop = True)\n",
    "data.shape"
   ]
  },
  {
   "cell_type": "markdown",
   "metadata": {},
   "source": [
    "OK. So we have 166 variables, where two is truth variables\n",
    "\n",
    "\"Truth\" - either 0 or 1, where 1 indicates that it is an electron.\n",
    "\n",
    "\"p_truth_E\" - which is the energy of the electron in GeV. \n",
    "\n",
    "This means that you can use this dataset for both regression and classification  - but we'll focus on regression here.\n",
    "\n",
    "However, we can only use 160 of these as training input (the additional 4 is simulation meta data that we shouldn't use). I've listed the correct input variables below."
   ]
  },
  {
   "cell_type": "markdown",
   "metadata": {},
   "source": [
    "We could plot all variables and look at them manually, but that would be quite taxing given that we have 162 variables. Let's first reduce the data using PCA and use the \"explained variance\" from Philipps lecture to decide how many dimensions we need. Let's start by making sure we don't mix truth variables and input data."
   ]
  },
  {
   "cell_type": "code",
   "execution_count": 2,
   "metadata": {},
   "outputs": [],
   "source": [
    "truth_column = 'p_truth_E'\n",
    "data = data.loc[data[truth_column] != -999.0,:].reset_index(drop = True)\n",
    "input_columns = ['actualInteractionsPerCrossing',\n",
    "'averageInteractionsPerCrossing',\n",
    "'correctedActualMu',\n",
    "'correctedAverageMu',\n",
    "'correctedScaledActualMu',\n",
    "'correctedScaledAverageMu',\n",
    "'NvtxReco',\n",
    "'p_nTracks',\n",
    "'p_pt_track',\n",
    "'p_eta',\n",
    "'p_phi',\n",
    "'p_charge',\n",
    "'p_qOverP',\n",
    "'p_z0',\n",
    "'p_d0',\n",
    "'p_sigmad0',\n",
    "'p_d0Sig',\n",
    "'p_EptRatio',\n",
    "'p_dPOverP',\n",
    "'p_z0theta',\n",
    "'p_etaCluster',\n",
    "'p_phiCluster',\n",
    "'p_eCluster',\n",
    "'p_rawEtaCluster',\n",
    "'p_rawPhiCluster',\n",
    "'p_rawECluster',\n",
    "'p_eClusterLr0',\n",
    "'p_eClusterLr1',\n",
    "'p_eClusterLr2',\n",
    "'p_eClusterLr3',\n",
    "'p_etaClusterLr1',\n",
    "'p_etaClusterLr2',\n",
    "'p_phiClusterLr2',\n",
    "'p_eAccCluster',\n",
    "'p_f0Cluster',\n",
    "'p_etaCalo',\n",
    "'p_phiCalo',\n",
    "'p_eTileGap3Cluster',\n",
    "'p_cellIndexCluster',\n",
    "'p_phiModCalo',\n",
    "'p_etaModCalo',\n",
    "'p_dPhiTH3',\n",
    "'p_R12',\n",
    "'p_fTG3',\n",
    "'p_weta2',\n",
    "'p_Reta',\n",
    "'p_Rphi',\n",
    "'p_Eratio',\n",
    "'p_f1',\n",
    "'p_f3',\n",
    "'p_Rhad',\n",
    "'p_Rhad1',\n",
    "'p_deltaEta1',\n",
    "'p_deltaPhiRescaled2',\n",
    "'p_TRTPID',\n",
    "'p_TRTTrackOccupancy',\n",
    "'p_numberOfInnermostPixelHits',\n",
    "'p_numberOfPixelHits',\n",
    "'p_numberOfSCTHits',\n",
    "'p_numberOfTRTHits',\n",
    "'p_numberOfTRTXenonHits',\n",
    "'p_chi2',\n",
    "'p_ndof',\n",
    "'p_SharedMuonTrack',\n",
    "'p_E7x7_Lr2',\n",
    "'p_E7x7_Lr3',\n",
    "'p_E_Lr0_HiG',\n",
    "'p_E_Lr0_LowG',\n",
    "'p_E_Lr0_MedG',\n",
    "'p_E_Lr1_HiG',\n",
    "'p_E_Lr1_LowG',\n",
    "'p_E_Lr1_MedG',\n",
    "'p_E_Lr2_HiG',\n",
    "'p_E_Lr2_LowG',\n",
    "'p_E_Lr2_MedG',\n",
    "'p_E_Lr3_HiG',\n",
    "'p_E_Lr3_LowG',\n",
    "'p_E_Lr3_MedG',\n",
    "'p_ambiguityType',\n",
    "'p_asy1',\n",
    "'p_author',\n",
    "'p_barys1',\n",
    "'p_core57cellsEnergyCorrection',\n",
    "'p_deltaEta0',\n",
    "'p_deltaEta2',\n",
    "'p_deltaEta3',\n",
    "'p_deltaPhi0',\n",
    "'p_deltaPhi1',\n",
    "'p_deltaPhi2',\n",
    "'p_deltaPhi3',\n",
    "'p_deltaPhiFromLastMeasurement',\n",
    "'p_deltaPhiRescaled0',\n",
    "'p_deltaPhiRescaled1',\n",
    "'p_deltaPhiRescaled3',\n",
    "'p_e1152',\n",
    "'p_e132',\n",
    "'p_e235',\n",
    "'p_e255',\n",
    "'p_e2ts1',\n",
    "'p_ecore',\n",
    "'p_emins1',\n",
    "'p_etconeCorrBitset',\n",
    "'p_ethad',\n",
    "'p_ethad1',\n",
    "'p_f1core',\n",
    "'p_f3core',\n",
    "'p_maxEcell_energy',\n",
    "'p_maxEcell_gain',\n",
    "'p_maxEcell_time',\n",
    "'p_maxEcell_x',\n",
    "'p_maxEcell_y',\n",
    "'p_maxEcell_z',\n",
    "'p_nCells_Lr0_HiG',\n",
    "'p_nCells_Lr0_LowG',\n",
    "'p_nCells_Lr0_MedG',\n",
    "'p_nCells_Lr1_HiG',\n",
    "'p_nCells_Lr1_LowG',\n",
    "'p_nCells_Lr1_MedG',\n",
    "'p_nCells_Lr2_HiG',\n",
    "'p_nCells_Lr2_LowG',\n",
    "'p_nCells_Lr2_MedG',\n",
    "'p_nCells_Lr3_HiG',\n",
    "'p_nCells_Lr3_LowG',\n",
    "'p_nCells_Lr3_MedG',\n",
    "'p_pos',\n",
    "'p_pos7',\n",
    "'p_poscs1',\n",
    "'p_poscs2',\n",
    "'p_ptconeCorrBitset',\n",
    "'p_ptconecoreTrackPtrCorrection',\n",
    "'p_r33over37allcalo',\n",
    "'p_topoetconeCorrBitset',\n",
    "'p_topoetconecoreConeEnergyCorrection',\n",
    "'p_topoetconecoreConeSCEnergyCorrection',\n",
    "'p_weta1',\n",
    "'p_widths1',\n",
    "'p_widths2',\n",
    "'p_wtots1',\n",
    "'p_e233',\n",
    "'p_e237',\n",
    "'p_e277',\n",
    "'p_e2tsts1',\n",
    "'p_ehad1',\n",
    "'p_emaxs1',\n",
    "'p_fracs1',\n",
    "'p_DeltaE',\n",
    "'p_E3x5_Lr0',\n",
    "'p_E3x5_Lr1',\n",
    "'p_E3x5_Lr2',\n",
    "'p_E3x5_Lr3',\n",
    "'p_E5x7_Lr0',\n",
    "'p_E5x7_Lr1',\n",
    "'p_E5x7_Lr2',\n",
    "'p_E5x7_Lr3',\n",
    "'p_E7x11_Lr0',\n",
    "'p_E7x11_Lr1',\n",
    "'p_E7x11_Lr2',\n",
    "'p_E7x11_Lr3',\n",
    "'p_E7x7_Lr0',\n",
    "'p_E7x7_Lr1']"
   ]
  },
  {
   "cell_type": "markdown",
   "metadata": {},
   "source": [
    "Let's split the data into test, training and validation sets"
   ]
  },
  {
   "cell_type": "code",
   "execution_count": 3,
   "metadata": {},
   "outputs": [],
   "source": [
    "from sklearn.model_selection import train_test_split\n",
    "data_train, data_split_this_into_test_validation = train_test_split(data, test_size=0.30, random_state=42)\n",
    "data_validate, data_test = train_test_split(data_split_this_into_test_validation, test_size=0.50, random_state=42)"
   ]
  },
  {
   "cell_type": "markdown",
   "metadata": {},
   "source": [
    "Let's compute PC's"
   ]
  },
  {
   "cell_type": "code",
   "execution_count": 4,
   "metadata": {},
   "outputs": [
    {
     "data": {
      "text/plain": [
       "Text(0.5, 0, 'PCA component')"
      ]
     },
     "execution_count": 4,
     "metadata": {},
     "output_type": "execute_result"
    },
    {
     "data": {
      "image/png": "[encoded data removed]",
      "text/plain": [
       "<Figure size 720x360 with 1 Axes>"
      ]
     },
     "metadata": {
      "needs_background": "light"
     },
     "output_type": "display_data"
    }
   ],
   "source": [
    "from sklearn.decomposition import PCA\n",
    "import matplotlib.pyplot as plt\n",
    "p = PCA(n_components=10, whiten = True)\n",
    "p.fit(data_train[input_columns])\n",
    "fig, ax = plt.subplots(1, 1, figsize=(10,5))\n",
    "ax.bar(np.arange(p.n_components)+1, np.cumsum(p.explained_variance_ratio_), width=1, label='cumulative')\n",
    "ax.set_ylabel('Explained Variance (%)')\n",
    "ax.set_xlabel('PCA component')"
   ]
  },
  {
   "cell_type": "markdown",
   "metadata": {},
   "source": [
    "OK - so it looks like we can explain the data (with little to no loss of information) by using just 4 dimensions. Let's transform the input data and make plots."
   ]
  },
  {
   "cell_type": "code",
   "execution_count": 5,
   "metadata": {},
   "outputs": [
    {
     "data": {
      "text/plain": [
       "(85046, 10)"
      ]
     },
     "execution_count": 5,
     "metadata": {},
     "output_type": "execute_result"
    }
   ],
   "source": [
    "data_train_transformed = p.transform(data_train[input_columns])\n",
    "data_test_transformed = p.transform(data_test[input_columns])\n",
    "data_validate_transformed = p.transform(data_validate[input_columns])\n",
    "data_train_transformed.shape"
   ]
  },
  {
   "cell_type": "code",
   "execution_count": 6,
   "metadata": {},
   "outputs": [
    {
     "data": {
      "text/plain": [
       "<matplotlib.legend.Legend at 0x7fc8e66f6940>"
      ]
     },
     "execution_count": 6,
     "metadata": {},
     "output_type": "execute_result"
    },
    {
     "data": {
      "image/png": "[encoded data removed]",
      "text/plain": [
       "<Figure size 1440x144 with 6 Axes>"
      ]
     },
     "metadata": {
      "needs_background": "light"
     },
     "output_type": "display_data"
    }
   ],
   "source": [
    "n_dimensions = 5\n",
    "bins = 50\n",
    "fig, ax = plt.subplots(1, 6, constrained_layout=True, figsize = (20,2))\n",
    "c = 0\n",
    "for column in range(5):\n",
    "    ax[c].hist(data_train_transformed[:,column], bins = bins, label = 'train', histtype = 'step')\n",
    "    ax[c].hist(data_validate_transformed[:,column], bins = bins, label = 'validate', histtype = 'step')\n",
    "    ax[c].hist(data_test_transformed[:,column], bins = bins, label = 'test', histtype = 'step')\n",
    "    ax[c].set_xlabel(f\" Dimension {column}\")\n",
    "    c = c + 1\n",
    "ax[c].hist(data_train[truth_column], bins = bins, label = 'train', histtype = 'step')\n",
    "ax[c].hist(data_test[truth_column], bins = bins, label = 'test', histtype = 'step')\n",
    "ax[c].hist(data_validate[truth_column], bins = bins, label = 'validate', histtype = 'step')\n",
    "ax[c].set_xlabel(\"Target\")\n",
    "plt.legend()"
   ]
  },
  {
   "cell_type": "markdown",
   "metadata": {},
   "source": [
    "OK. So the input data (the PCA dimensions) seem to be OK. The target variable, however, covers many orders of magnitude, and will require some scaling. Let's try to scale it."
   ]
  },
  {
   "cell_type": "code",
   "execution_count": 7,
   "metadata": {},
   "outputs": [
    {
     "data": {
      "text/plain": [
       "<matplotlib.legend.Legend at 0x7fc8e664b880>"
      ]
     },
     "execution_count": 7,
     "metadata": {},
     "output_type": "execute_result"
    },
    {
     "data": {
      "image/png": "[encoded data removed]",
      "text/plain": [
       "<Figure size 360x360 with 1 Axes>"
      ]
     },
     "metadata": {
      "needs_background": "light"
     },
     "output_type": "display_data"
    }
   ],
   "source": [
    "from sklearn.preprocessing import RobustScaler\n",
    "fig = plt.figure(figsize=(5,5))\n",
    "truth_scaler = RobustScaler().fit(np.array(data_train[truth_column]).reshape(-1,1)) # Fit only to training data\n",
    "\n",
    "def transform_truth_array(scaler, array):\n",
    "    return scaler.transform(np.array(array).reshape(-1,1))\n",
    "\n",
    "bins = np.arange(-3,5,0.01)\n",
    "plt.hist(transform_truth_array(truth_scaler, data_train[truth_column]), bins = bins, label = 'train', histtype = 'step');\n",
    "plt.hist(transform_truth_array(truth_scaler, data_validate[truth_column]), bins = bins, label = 'validate', histtype = 'step');\n",
    "plt.hist(transform_truth_array(truth_scaler, data_test[truth_column]), bins = bins, label = 'test', histtype = 'step');\n",
    "plt.xlabel('Scaled Energy')\n",
    "plt.legend()"
   ]
  },
  {
   "cell_type": "markdown",
   "metadata": {},
   "source": [
    "    1.b) Train different regressors (linear, BDT, NN) to predict the value of interest given the inputs.\n",
    "\n",
    "I'll just train the pytorch neural network here. See the other notebook for other algorithms."
   ]
  },
  {
   "cell_type": "markdown",
   "metadata": {},
   "source": [
    "Alright - let's now pack the data into pytorch datasets, so we can begin the training. You can read more about this here: https://pytorch.org/tutorials/beginner/basics/data_tutorial.html"
   ]
  },
  {
   "cell_type": "code",
   "execution_count": 8,
   "metadata": {},
   "outputs": [],
   "source": [
    "import torch\n",
    "from torch.utils.data import Dataset\n",
    "\n",
    "class LHCDataset(Dataset):\n",
    "    def __init__(self, input_data, scaled_truth):\n",
    "        self._input_data = input_data\n",
    "        self._scaled_truth = scaled_truth\n",
    "        \n",
    "    def __len__(self):\n",
    "        return len(self._scaled_truth)\n",
    "\n",
    "    def __getitem__(self, idx):\n",
    "        return torch.tensor(self._input_data[idx], dtype = torch.float), torch.tensor(self._scaled_truth[idx],dtype = torch.float)\n",
    "n_dimensions = 5\n",
    "train_dataset = LHCDataset(input_data = data_train_transformed[:,0:n_dimensions], scaled_truth = transform_truth_array(truth_scaler,data_train[truth_column]))\n",
    "validate_dataset = LHCDataset(input_data = data_validate_transformed[:,0:n_dimensions], scaled_truth = transform_truth_array(truth_scaler,data_validate[truth_column]))\n",
    "test_dataset = LHCDataset(input_data = data_test_transformed[:,0:n_dimensions], scaled_truth = transform_truth_array(truth_scaler,data_test[truth_column]))"
   ]
  },
  {
   "cell_type": "markdown",
   "metadata": {},
   "source": [
    "pytorch does not come with inbuilt functionality for training. One needs to write the training loops, early stopping and other functionality by hand. Having this freedom to design the training process to ones exact needs is awesome; but for simple tasks like ours, we can rely on an extension of pytorch called \"pytorch-lightning\" that has this inbuilt functionality. In order for it to work, we must have our neural network inherit from the \"LightningModule\". Let's define the neural network now"
   ]
  },
  {
   "cell_type": "code",
   "execution_count": 9,
   "metadata": {},
   "outputs": [],
   "source": [
    "#!pip install --upgrade torch\n",
    "#!pip install pytorch_lightning\n",
    "#!pip install torchmetrics\n",
    "import pytorch_lightning as pl\n",
    "class Model(pl.LightningModule):\n",
    "    def __init__(self, hidden_size, loss_func):\n",
    "        super().__init__()\n",
    "        self._loss_function = loss_func\n",
    "        self.mlp1 = torch.nn.Linear(5,hidden_size)\n",
    "        self.mlp2 = torch.nn.Linear(hidden_size,hidden_size)\n",
    "        self.mlp3 = torch.nn.Linear(hidden_size,hidden_size)\n",
    "        self.mlp4 = torch.nn.Linear(hidden_size,hidden_size)\n",
    "        self.mlp5 = torch.nn.Linear(hidden_size,hidden_size)\n",
    "        self.mlp6 = torch.nn.Linear(hidden_size,1)\n",
    "        self.activation_function = torch.nn.LeakyReLU()\n",
    "\n",
    "    def forward(self, batch):\n",
    "        x, y = batch\n",
    "        x = self.mlp1(x)\n",
    "        x = self.activation_function(x)\n",
    "        x = self.mlp2(x)\n",
    "        x = self.activation_function(x)\n",
    "        x = self.mlp3(x)\n",
    "        x = self.activation_function(x)\n",
    "        x = self.mlp4(x)\n",
    "        x = self.activation_function(x)\n",
    "        x = self.mlp5(x)\n",
    "        x = self.activation_function(x)\n",
    "        x = self.mlp6(x)\n",
    "        return x\n",
    "\n",
    "    def training_step(self, batch, batch_idx):\n",
    "        _, y = batch\n",
    "        x = self.forward(batch)\n",
    "        loss = self._loss_function(x, y)\n",
    "        # Logging to TensorBoard by default\n",
    "        self.log(\"train_loss\", loss)\n",
    "        return loss\n",
    "\n",
    "    def configure_optimizers(self):\n",
    "        optimizer = torch.optim.Adam(self.parameters(), lr=1e-3)\n",
    "        return optimizer\n",
    "\n",
    "    def validation_step(self, batch, batch_idx):\n",
    "        _, y = batch\n",
    "        x = self.forward(batch)\n",
    "        # Loss\n",
    "        loss = self._loss_function(x, y)\n",
    "        self.log(\"val_loss\", loss)\n",
    "    def predict_step(self, batch, batch_idx, dataloader_idx=0):\n",
    "        return self(batch)"
   ]
  },
  {
   "cell_type": "markdown",
   "metadata": {},
   "source": [
    "In the **__init__** function, we define the layers of our neural network and other member variables.  \n",
    "\n",
    "**forward(self, batch)** defines how our data from the datasets (\"batch\") flows through the layers of the model. \n",
    "\n",
    "In  **training_step** we define how a training step looks like; first the data flows through the layers via \"forward\" and the output of the model is used to calculate a loss. pytorch-lightning takes care of the rest (back-propragation, optimization steps, etc.). \n",
    "\n",
    "In **configure_optimizers** we choose our optimization method. A common choice that fits most use cases is \"adam\". \n",
    "\n",
    "In **validation_step** we define how to calculate validation loss; this is similar to the training step. \n",
    "\n",
    "In **predict_step** we define the logic of predicting. \"predicting\" is when we ask the model, once it's trained, to predict on our test set. "
   ]
  },
  {
   "cell_type": "markdown",
   "metadata": {},
   "source": [
    "Alright - let's now define the central training parameters. We'll set the number of training epochs to 100, and the early stopping patience to 5. Patience of 5 means that the training will stop if no improvements on the validation loss is seen for 5 consequtive epochs. We'll set the batch_size to 1000 (decrease this if you have memory issues), which means the backpropagation will be made on 1000 examples at a time. Hidden_size defines the number of neurons in our hidden layer.\n",
    "\n",
    "We then call torch.utils.data.DataLoader() on our datasets to transform them into iterable objects for training. A DataLoader is an object that calls the **__get_item__** function in our dataset class \"batch_size\" times. So when we call next(iter(train_dataloader)) we get a batch of examples. These batches are fed one at a time into model (called batch also in the model class). pytorch-lightning takes care of most of this data handling. \n",
    "\n",
    "Once the dataloaders are defined, one for each dataset, we setup the pytorch-lightning Trainer - which trains our model on the training dataset, and checks it's performance while training on the validation dataset. "
   ]
  },
  {
   "cell_type": "code",
   "execution_count": 10,
   "metadata": {},
   "outputs": [
    {
     "name": "stderr",
     "output_type": "stream",
     "text": [
      "GPU available: False, used: False\n",
      "TPU available: False, using: 0 TPU cores\n",
      "IPU available: False, using: 0 IPUs\n",
      "\n",
      "  | Name                | Type      | Params\n",
      "--------------------------------------------------\n",
      "0 | _loss_function      | MSELoss   | 0     \n",
      "1 | mlp1                | Linear    | 6.1 K \n",
      "2 | mlp2                | Linear    | 1.0 M \n",
      "3 | mlp3                | Linear    | 1.0 M \n",
      "4 | mlp4                | Linear    | 1.0 M \n",
      "5 | mlp5                | Linear    | 1.0 M \n",
      "6 | mlp6                | Linear    | 1.0 K \n",
      "7 | activation_function | LeakyReLU | 0     \n",
      "--------------------------------------------------\n",
      "4.2 M     Trainable params\n",
      "0         Non-trainable params\n",
      "4.2 M     Total params\n",
      "16.822    Total estimated model params size (MB)\n"
     ]
    },
    {
     "data": {
      "application/vnd.jupyter.widget-view+json": {
       "model_id": "a1abd59864b2471798ff1a4c08fddc93",
       "version_major": 2,
       "version_minor": 0
      },
      "text/plain": [
       "HBox(children=(HTML(value='Validation sanity check'), FloatProgress(value=1.0, bar_style='info', layout=Layout…"
      ]
     },
     "metadata": {},
     "output_type": "display_data"
    },
    {
     "name": "stderr",
     "output_type": "stream",
     "text": [
      "/groups/hep/pcs557/anaconda3/lib/python3.8/site-packages/pytorch_lightning-1.5.6-py3.8.egg/pytorch_lightning/trainer/data_loading.py:116: UserWarning: The dataloader, val_dataloader 0, does not have many workers which may be a bottleneck. Consider increasing the value of the `num_workers` argument` (try 40 which is the number of cpus on this machine) in the `DataLoader` init to improve performance.\n",
      "  rank_zero_warn(\n",
      "/groups/hep/pcs557/anaconda3/lib/python3.8/site-packages/pytorch_lightning-1.5.6-py3.8.egg/pytorch_lightning/trainer/data_loading.py:116: UserWarning: The dataloader, train_dataloader, does not have many workers which may be a bottleneck. Consider increasing the value of the `num_workers` argument` (try 40 which is the number of cpus on this machine) in the `DataLoader` init to improve performance.\n",
      "  rank_zero_warn(\n"
     ]
    },
    {
     "data": {
      "application/vnd.jupyter.widget-view+json": {
       "model_id": "18d5103c82b745d4acb4f56d9260d156",
       "version_major": 2,
       "version_minor": 0
      },
      "text/plain": [
       "HBox(children=(HTML(value='Training'), FloatProgress(value=1.0, bar_style='info', layout=Layout(flex='2'), max…"
      ]
     },
     "metadata": {},
     "output_type": "display_data"
    },
    {
     "data": {
      "application/vnd.jupyter.widget-view+json": {
       "model_id": "efdc1ad448264a008101c7b07c1015c3",
       "version_major": 2,
       "version_minor": 0
      },
      "text/plain": [
       "HBox(children=(HTML(value='Validating'), FloatProgress(value=1.0, bar_style='info', layout=Layout(flex='2'), m…"
      ]
     },
     "metadata": {},
     "output_type": "display_data"
    },
    {
     "data": {
      "application/vnd.jupyter.widget-view+json": {
       "model_id": "8bbcd87f32da435a90d1b2677b5462e2",
       "version_major": 2,
       "version_minor": 0
      },
      "text/plain": [
       "HBox(children=(HTML(value='Validating'), FloatProgress(value=1.0, bar_style='info', layout=Layout(flex='2'), m…"
      ]
     },
     "metadata": {},
     "output_type": "display_data"
    },
    {
     "data": {
      "application/vnd.jupyter.widget-view+json": {
       "model_id": "13449be71e094a7abbb03d3dfef22c15",
       "version_major": 2,
       "version_minor": 0
      },
      "text/plain": [
       "HBox(children=(HTML(value='Validating'), FloatProgress(value=1.0, bar_style='info', layout=Layout(flex='2'), m…"
      ]
     },
     "metadata": {},
     "output_type": "display_data"
    },
    {
     "data": {
      "application/vnd.jupyter.widget-view+json": {
       "model_id": "f8be9d57df994270afa41142c9288681",
       "version_major": 2,
       "version_minor": 0
      },
      "text/plain": [
       "HBox(children=(HTML(value='Validating'), FloatProgress(value=1.0, bar_style='info', layout=Layout(flex='2'), m…"
      ]
     },
     "metadata": {},
     "output_type": "display_data"
    },
    {
     "data": {
      "application/vnd.jupyter.widget-view+json": {
       "model_id": "c35fa8a1b7f14417b2452dead51e2844",
       "version_major": 2,
       "version_minor": 0
      },
      "text/plain": [
       "HBox(children=(HTML(value='Validating'), FloatProgress(value=1.0, bar_style='info', layout=Layout(flex='2'), m…"
      ]
     },
     "metadata": {},
     "output_type": "display_data"
    },
    {
     "data": {
      "application/vnd.jupyter.widget-view+json": {
       "model_id": "849e831f4bd44d2fa0f23c51a8ec9b8e",
       "version_major": 2,
       "version_minor": 0
      },
      "text/plain": [
       "HBox(children=(HTML(value='Validating'), FloatProgress(value=1.0, bar_style='info', layout=Layout(flex='2'), m…"
      ]
     },
     "metadata": {},
     "output_type": "display_data"
    },
    {
     "data": {
      "application/vnd.jupyter.widget-view+json": {
       "model_id": "a7c457b25fb146bfb6248e01d2c8b808",
       "version_major": 2,
       "version_minor": 0
      },
      "text/plain": [
       "HBox(children=(HTML(value='Validating'), FloatProgress(value=1.0, bar_style='info', layout=Layout(flex='2'), m…"
      ]
     },
     "metadata": {},
     "output_type": "display_data"
    },
    {
     "data": {
      "application/vnd.jupyter.widget-view+json": {
       "model_id": "a584416ddd8c4126a8193d59ea771228",
       "version_major": 2,
       "version_minor": 0
      },
      "text/plain": [
       "HBox(children=(HTML(value='Validating'), FloatProgress(value=1.0, bar_style='info', layout=Layout(flex='2'), m…"
      ]
     },
     "metadata": {},
     "output_type": "display_data"
    },
    {
     "data": {
      "application/vnd.jupyter.widget-view+json": {
       "model_id": "5653d09b24144b719f2fe5f5ca6297fe",
       "version_major": 2,
       "version_minor": 0
      },
      "text/plain": [
       "HBox(children=(HTML(value='Validating'), FloatProgress(value=1.0, bar_style='info', layout=Layout(flex='2'), m…"
      ]
     },
     "metadata": {},
     "output_type": "display_data"
    },
    {
     "data": {
      "application/vnd.jupyter.widget-view+json": {
       "model_id": "f3df063160b344beab5532370752c1d1",
       "version_major": 2,
       "version_minor": 0
      },
      "text/plain": [
       "HBox(children=(HTML(value='Validating'), FloatProgress(value=1.0, bar_style='info', layout=Layout(flex='2'), m…"
      ]
     },
     "metadata": {},
     "output_type": "display_data"
    },
    {
     "data": {
      "application/vnd.jupyter.widget-view+json": {
       "model_id": "4326af38ba144b009fb24284c0d50378",
       "version_major": 2,
       "version_minor": 0
      },
      "text/plain": [
       "HBox(children=(HTML(value='Validating'), FloatProgress(value=1.0, bar_style='info', layout=Layout(flex='2'), m…"
      ]
     },
     "metadata": {},
     "output_type": "display_data"
    },
    {
     "data": {
      "application/vnd.jupyter.widget-view+json": {
       "model_id": "b24b816d4ac74e0da9b2f85b206cd256",
       "version_major": 2,
       "version_minor": 0
      },
      "text/plain": [
       "HBox(children=(HTML(value='Validating'), FloatProgress(value=1.0, bar_style='info', layout=Layout(flex='2'), m…"
      ]
     },
     "metadata": {},
     "output_type": "display_data"
    },
    {
     "data": {
      "application/vnd.jupyter.widget-view+json": {
       "model_id": "6e9d297f06cf484d9ea2d53d3d000ac0",
       "version_major": 2,
       "version_minor": 0
      },
      "text/plain": [
       "HBox(children=(HTML(value='Validating'), FloatProgress(value=1.0, bar_style='info', layout=Layout(flex='2'), m…"
      ]
     },
     "metadata": {},
     "output_type": "display_data"
    },
    {
     "data": {
      "application/vnd.jupyter.widget-view+json": {
       "model_id": "8bdac8f493f84256aaea32b716832539",
       "version_major": 2,
       "version_minor": 0
      },
      "text/plain": [
       "HBox(children=(HTML(value='Validating'), FloatProgress(value=1.0, bar_style='info', layout=Layout(flex='2'), m…"
      ]
     },
     "metadata": {},
     "output_type": "display_data"
    },
    {
     "data": {
      "application/vnd.jupyter.widget-view+json": {
       "model_id": "4f6714a9bbd24a519c22ec2562e0e205",
       "version_major": 2,
       "version_minor": 0
      },
      "text/plain": [
       "HBox(children=(HTML(value='Validating'), FloatProgress(value=1.0, bar_style='info', layout=Layout(flex='2'), m…"
      ]
     },
     "metadata": {},
     "output_type": "display_data"
    },
    {
     "data": {
      "application/vnd.jupyter.widget-view+json": {
       "model_id": "4e0373da08fb47ea9d1adec7e73bce7c",
       "version_major": 2,
       "version_minor": 0
      },
      "text/plain": [
       "HBox(children=(HTML(value='Validating'), FloatProgress(value=1.0, bar_style='info', layout=Layout(flex='2'), m…"
      ]
     },
     "metadata": {},
     "output_type": "display_data"
    },
    {
     "data": {
      "application/vnd.jupyter.widget-view+json": {
       "model_id": "5561caa80d8845738764c4682053239a",
       "version_major": 2,
       "version_minor": 0
      },
      "text/plain": [
       "HBox(children=(HTML(value='Validating'), FloatProgress(value=1.0, bar_style='info', layout=Layout(flex='2'), m…"
      ]
     },
     "metadata": {},
     "output_type": "display_data"
    },
    {
     "data": {
      "application/vnd.jupyter.widget-view+json": {
       "model_id": "85f22dc60c8e47d89f38edf22e25e0f7",
       "version_major": 2,
       "version_minor": 0
      },
      "text/plain": [
       "HBox(children=(HTML(value='Validating'), FloatProgress(value=1.0, bar_style='info', layout=Layout(flex='2'), m…"
      ]
     },
     "metadata": {},
     "output_type": "display_data"
    },
    {
     "data": {
      "application/vnd.jupyter.widget-view+json": {
       "model_id": "09e202903d6443168f0aa3afeabb0567",
       "version_major": 2,
       "version_minor": 0
      },
      "text/plain": [
       "HBox(children=(HTML(value='Validating'), FloatProgress(value=1.0, bar_style='info', layout=Layout(flex='2'), m…"
      ]
     },
     "metadata": {},
     "output_type": "display_data"
    },
    {
     "data": {
      "application/vnd.jupyter.widget-view+json": {
       "model_id": "ba016360cabf4022a346c36d2198cdec",
       "version_major": 2,
       "version_minor": 0
      },
      "text/plain": [
       "HBox(children=(HTML(value='Validating'), FloatProgress(value=1.0, bar_style='info', layout=Layout(flex='2'), m…"
      ]
     },
     "metadata": {},
     "output_type": "display_data"
    },
    {
     "data": {
      "application/vnd.jupyter.widget-view+json": {
       "model_id": "9130d2f22cb047ee90af3d9894ffd01c",
       "version_major": 2,
       "version_minor": 0
      },
      "text/plain": [
       "HBox(children=(HTML(value='Validating'), FloatProgress(value=1.0, bar_style='info', layout=Layout(flex='2'), m…"
      ]
     },
     "metadata": {},
     "output_type": "display_data"
    },
    {
     "data": {
      "application/vnd.jupyter.widget-view+json": {
       "model_id": "531fb562f2a64507bc78dfb31d65cc6e",
       "version_major": 2,
       "version_minor": 0
      },
      "text/plain": [
       "HBox(children=(HTML(value='Validating'), FloatProgress(value=1.0, bar_style='info', layout=Layout(flex='2'), m…"
      ]
     },
     "metadata": {},
     "output_type": "display_data"
    },
    {
     "data": {
      "application/vnd.jupyter.widget-view+json": {
       "model_id": "32751f02fa92460295ee11d8d20eff67",
       "version_major": 2,
       "version_minor": 0
      },
      "text/plain": [
       "HBox(children=(HTML(value='Validating'), FloatProgress(value=1.0, bar_style='info', layout=Layout(flex='2'), m…"
      ]
     },
     "metadata": {},
     "output_type": "display_data"
    },
    {
     "name": "stdout",
     "output_type": "stream",
     "text": [
      "\n"
     ]
    }
   ],
   "source": [
    "from torch.utils.data import DataLoader\n",
    "from pytorch_lightning import Trainer\n",
    "from pytorch_lightning.callbacks import EarlyStopping\n",
    "from torch.nn import MSELoss\n",
    "\n",
    "patience = 5\n",
    "max_epochs = 100\n",
    "batch_size = 5000\n",
    "hidden_size = 1024\n",
    "train_dataloader = DataLoader(train_dataset, batch_size = batch_size, shuffle = True)\n",
    "validate_dataloader = DataLoader(validate_dataset, batch_size = batch_size, shuffle = False)\n",
    "test_dataloader = DataLoader(test_dataset, batch_size = batch_size, shuffle = False)\n",
    "callbacks = [\n",
    "        EarlyStopping(\n",
    "            monitor=\"val_loss\",\n",
    "            patience=patience,\n",
    "        ),\n",
    "    ]\n",
    "\n",
    "trainer = Trainer(\n",
    "        max_epochs=max_epochs,\n",
    "        callbacks=callbacks,\n",
    "        log_every_n_steps=1,\n",
    "    )\n",
    "model_mse = Model(hidden_size = hidden_size, loss_func = MSELoss())\n",
    "trainer.fit(model_mse, train_dataloader, validate_dataloader)"
   ]
  },
  {
   "cell_type": "markdown",
   "metadata": {},
   "source": [
    "OK. The training converged (early stopping kicked in) after 22 epochs. Let's now define a function that allows us to apply the model to our test set."
   ]
  },
  {
   "cell_type": "code",
   "execution_count": 11,
   "metadata": {},
   "outputs": [],
   "source": [
    "def get_predictions(trainer, model, dataloader):\n",
    "    predictions = trainer.predict(model, dataloader)\n",
    "    results = []\n",
    "    for batch in predictions:\n",
    "        results.extend(batch.numpy().tolist())\n",
    "    return np.array(results)"
   ]
  },
  {
   "cell_type": "markdown",
   "metadata": {},
   "source": [
    "Let's predict on the test set!"
   ]
  },
  {
   "cell_type": "code",
   "execution_count": 12,
   "metadata": {},
   "outputs": [
    {
     "name": "stderr",
     "output_type": "stream",
     "text": [
      "/groups/hep/pcs557/anaconda3/lib/python3.8/site-packages/pytorch_lightning-1.5.6-py3.8.egg/pytorch_lightning/trainer/data_loading.py:116: UserWarning: The dataloader, predict_dataloader 0, does not have many workers which may be a bottleneck. Consider increasing the value of the `num_workers` argument` (try 40 which is the number of cpus on this machine) in the `DataLoader` init to improve performance.\n",
      "  rank_zero_warn(\n"
     ]
    },
    {
     "data": {
      "application/vnd.jupyter.widget-view+json": {
       "model_id": "59e4c24b40ad432392dece1ca181654f",
       "version_major": 2,
       "version_minor": 0
      },
      "text/plain": [
       "HBox(children=(HTML(value='Predicting'), FloatProgress(value=1.0, bar_style='info', layout=Layout(flex='2'), m…"
      ]
     },
     "metadata": {},
     "output_type": "display_data"
    },
    {
     "name": "stderr",
     "output_type": "stream",
     "text": [
      "/groups/hep/pcs557/anaconda3/lib/python3.8/site-packages/pytorch_lightning-1.5.6-py3.8.egg/pytorch_lightning/loops/epoch/prediction_epoch_loop.py:172: UserWarning: Lightning couldn't infer the indices fetched for your dataloader.\n",
      "  warning_cache.warn(\"Lightning couldn't infer the indices fetched for your dataloader.\")\n"
     ]
    },
    {
     "name": "stdout",
     "output_type": "stream",
     "text": [
      "\n"
     ]
    }
   ],
   "source": [
    "results = get_predictions(trainer, model_mse, test_dataloader)\n"
   ]
  },
  {
   "cell_type": "markdown",
   "metadata": {},
   "source": [
    "Let's now define a few plotting functions; this is quite similar to the other notebook."
   ]
  },
  {
   "cell_type": "code",
   "execution_count": 13,
   "metadata": {},
   "outputs": [],
   "source": [
    "def inverse_transform_truth(scaler, array):\n",
    "    return array*scaler.scale_[0]+scaler.center_[0]\n",
    "\n",
    "def calculate_energy_resolution(truth, prediction, scaler):\n",
    "    bins = np.arange(1, np.log10(300000), 0.1)\n",
    "    mean_energy = []\n",
    "    resolution = []\n",
    "    prediction = inverse_transform_truth(scaler,prediction)\n",
    "    for i in range(len(bins)-1):\n",
    "        index = (np.log10(truth)>= bins[i]) & (np.log10(truth)< bins[i+1])\n",
    "        if sum(index)>0:\n",
    "            mean_energy.append(np.log10(truth[index].mean()))\n",
    "            residual_in_bin = (truth[index] - prediction[index])/truth[index] *100\n",
    "            resolution.append((np.percentile(residual_in_bin,84) - np.percentile(residual_in_bin,16))/2)\n",
    "    return mean_energy, resolution\n",
    "def plot_residual(truth, prediction, scaler):\n",
    "    bins = np.arange(4.5,6,0.05)\n",
    "    truth = truth.to_numpy().reshape(-1,1)\n",
    "    mean_energy, resolution = calculate_energy_resolution(truth, prediction,scaler)\n",
    "    fig, ax = plt.subplots(1, 4, constrained_layout=True, figsize = (25,5))\n",
    "    ax[0].hist(np.log10(truth), histtype = 'step', bins = bins, label = 'truth')\n",
    "    ax[0].hist(np.log10(inverse_transform_truth(scaler,prediction)), histtype = 'step', bins = bins, label = 'prediction')\n",
    "    ax[0].set_xlabel('Energy [log10 GeV]', size = 20)\n",
    "    residual =(truth-inverse_transform_truth(scaler,prediction))/truth * 100\n",
    "    ax[1].hist(residual, histtype = 'step', bins = np.arange(-100,100))\n",
    "    ax[1].plot(np.repeat(0, 100), np.linspace(0, 1500, 100), color = 'black', lw = 0.2)\n",
    "    ax[1].plot(np.repeat(np.percentile(residual,16),100), np.linspace(0, 1500, 100), color = 'red', lw = 0.2, label= '16th')\n",
    "    ax[1].plot(np.repeat(np.percentile(residual,84),100), np.linspace(0, 1500, 100), color = 'green', lw = 0.2, label= '84th')\n",
    "    ax[1].plot(np.repeat(0, 100), np.linspace(0, 1500, 100), color = 'black', lw = 0.2)\n",
    "    ax[1].set_xlabel('Residual [%]', size = 20)\n",
    "    ax[1].legend()\n",
    "    ax[0].legend()\n",
    "    ax[2].hist2d(inverse_transform_truth(scaler,prediction).squeeze(1), truth.squeeze(1), bins = 30, cmap = 'magma')\n",
    "    ax[2].set_xlabel('Prediction [GeV]', size = 20)\n",
    "    ax[2].plot(truth, truth, color = 'grey', ls = '--')\n",
    "    ax[2].set_ylabel('Truth [GeV]', size = 20)\n",
    "    ax[3].set_xlabel('True Energy [log10 GeV]', size = 20)\n",
    "    ax[3].plot(mean_energy, resolution, ls = '--', label = 'resolution')\n",
    "    ax3_extra = ax[3].twiny()\n",
    "    ax3_extra.hist(np.log10(truth), histtype = 'step', bins = bins, label = 'True Distribution', color = 'black')\n",
    "    ax[3].set_ylabel('Resolution [%]', size = 20)\n",
    "    ax[3].set_xlim([4,6])\n",
    "    ax[3].legend()\n",
    "    \n",
    "    return"
   ]
  },
  {
   "cell_type": "markdown",
   "metadata": {},
   "source": [
    "Let's see the results!"
   ]
  },
  {
   "cell_type": "code",
   "execution_count": 14,
   "metadata": {},
   "outputs": [
    {
     "data": {
      "image/png": "[encoded data removed]",
      "text/plain": [
       "<Figure size 1800x360 with 5 Axes>"
      ]
     },
     "metadata": {
      "needs_background": "light"
     },
     "output_type": "display_data"
    }
   ],
   "source": [
    "plot_residual(data_test[truth_column], results, truth_scaler)"
   ]
  },
  {
   "cell_type": "markdown",
   "metadata": {},
   "source": [
    "**First plot from the left**; Here we see the distributions of the neural network compared to the distribution of the truth. Notice that the neural network produces unrealisticly many predictions around 5 log10 GeV. Comparing these two distributions are mainly useful to check for funny artifacts in the output of the neural network. If it was poorly trained, most predictions lie within a very narrow band (e.g. all predictions at 5 log10 GeV).\n",
    "\n",
    "**Second plot from the left**; To estimate how wrong the neural network is, we can use the residual distribution, which is what's shown here. This plot shows the percentage error (truth-prediction)/truth. This is a common metric for regression evaluation when the true value cannot be 0 (which it can't for us). Ideally, for a perfect regressor, you'd have a delta-function at 0 - as it indicates 0% error. The black line at 0 is added to guide the eye - it's clear that the residual distribution is centered a bit below 0, indicating that the neural network tends to over-estimate the true energy when it's close to the truth. The long tail into the negative values show that there are over-estimated predictions - which is expected as the first plot the left shows very few estimates for the low energies. \n",
    "\n",
    "**third plot from the left** Here we plot the truth vs the predicted energy. It's clear that agreement in the lower energies and the higher energies isn't great. \n",
    "\n",
    "**fourth plot from the left** Here we plot the resolution (84th - 16th)/2 as a function of true energy. From this plot we can see for which energies the percentage error is smallest. I have also plotted the true distribution of energy for reference. Here we can see that the resolution is bad (high) at the low energies - which is not surprising when inspecting the first plot. We can also see that the model is worst where there is little statistics and very good where there is high statistics. This is a good plot to compare algorithms :-)  "
   ]
  },
  {
   "cell_type": "markdown",
   "metadata": {},
   "source": [
    "    1.B) What happens if you use different loss functions? For example MSE vs MAE loss?\n",
    "\n",
    "Let's try to train the neural network with the LogCosh loss function and MAE. We can then try to compare the models using the resolution plot.\n"
   ]
  },
  {
   "cell_type": "code",
   "execution_count": 15,
   "metadata": {},
   "outputs": [
    {
     "name": "stderr",
     "output_type": "stream",
     "text": [
      "GPU available: False, used: False\n",
      "TPU available: False, using: 0 TPU cores\n",
      "IPU available: False, using: 0 IPUs\n",
      "\n",
      "  | Name                | Type      | Params\n",
      "--------------------------------------------------\n",
      "0 | _loss_function      | L1Loss    | 0     \n",
      "1 | mlp1                | Linear    | 6.1 K \n",
      "2 | mlp2                | Linear    | 1.0 M \n",
      "3 | mlp3                | Linear    | 1.0 M \n",
      "4 | mlp4                | Linear    | 1.0 M \n",
      "5 | mlp5                | Linear    | 1.0 M \n",
      "6 | mlp6                | Linear    | 1.0 K \n",
      "7 | activation_function | LeakyReLU | 0     \n",
      "--------------------------------------------------\n",
      "4.2 M     Trainable params\n",
      "0         Non-trainable params\n",
      "4.2 M     Total params\n",
      "16.822    Total estimated model params size (MB)\n"
     ]
    },
    {
     "data": {
      "application/vnd.jupyter.widget-view+json": {
       "model_id": "412526cef859486da545edd17ff62ea8",
       "version_major": 2,
       "version_minor": 0
      },
      "text/plain": [
       "HBox(children=(HTML(value='Validation sanity check'), FloatProgress(value=1.0, bar_style='info', layout=Layout…"
      ]
     },
     "metadata": {},
     "output_type": "display_data"
    },
    {
     "name": "stderr",
     "output_type": "stream",
     "text": [
      "/groups/hep/pcs557/anaconda3/lib/python3.8/site-packages/pytorch_lightning-1.5.6-py3.8.egg/pytorch_lightning/trainer/data_loading.py:116: UserWarning: The dataloader, val_dataloader 0, does not have many workers which may be a bottleneck. Consider increasing the value of the `num_workers` argument` (try 40 which is the number of cpus on this machine) in the `DataLoader` init to improve performance.\n",
      "  rank_zero_warn(\n",
      "/groups/hep/pcs557/anaconda3/lib/python3.8/site-packages/pytorch_lightning-1.5.6-py3.8.egg/pytorch_lightning/trainer/data_loading.py:116: UserWarning: The dataloader, train_dataloader, does not have many workers which may be a bottleneck. Consider increasing the value of the `num_workers` argument` (try 40 which is the number of cpus on this machine) in the `DataLoader` init to improve performance.\n",
      "  rank_zero_warn(\n"
     ]
    },
    {
     "data": {
      "application/vnd.jupyter.widget-view+json": {
       "model_id": "c8cee87be8cf442da61cf53aa1535cb3",
       "version_major": 2,
       "version_minor": 0
      },
      "text/plain": [
       "HBox(children=(HTML(value='Training'), FloatProgress(value=1.0, bar_style='info', layout=Layout(flex='2'), max…"
      ]
     },
     "metadata": {},
     "output_type": "display_data"
    },
    {
     "data": {
      "application/vnd.jupyter.widget-view+json": {
       "model_id": "babcc48136674899a60b34f9dbebaa74",
       "version_major": 2,
       "version_minor": 0
      },
      "text/plain": [
       "HBox(children=(HTML(value='Validating'), FloatProgress(value=1.0, bar_style='info', layout=Layout(flex='2'), m…"
      ]
     },
     "metadata": {},
     "output_type": "display_data"
    },
    {
     "data": {
      "application/vnd.jupyter.widget-view+json": {
       "model_id": "2de4757838fd439789837416b9d178c3",
       "version_major": 2,
       "version_minor": 0
      },
      "text/plain": [
       "HBox(children=(HTML(value='Validating'), FloatProgress(value=1.0, bar_style='info', layout=Layout(flex='2'), m…"
      ]
     },
     "metadata": {},
     "output_type": "display_data"
    },
    {
     "data": {
      "application/vnd.jupyter.widget-view+json": {
       "model_id": "d5037ac1ad4b47c8a0c24c7f44a4ba33",
       "version_major": 2,
       "version_minor": 0
      },
      "text/plain": [
       "HBox(children=(HTML(value='Validating'), FloatProgress(value=1.0, bar_style='info', layout=Layout(flex='2'), m…"
      ]
     },
     "metadata": {},
     "output_type": "display_data"
    },
    {
     "data": {
      "application/vnd.jupyter.widget-view+json": {
       "model_id": "fb95f71d931c404bafc00e2e5457d50c",
       "version_major": 2,
       "version_minor": 0
      },
      "text/plain": [
       "HBox(children=(HTML(value='Validating'), FloatProgress(value=1.0, bar_style='info', layout=Layout(flex='2'), m…"
      ]
     },
     "metadata": {},
     "output_type": "display_data"
    },
    {
     "data": {
      "application/vnd.jupyter.widget-view+json": {
       "model_id": "7faf116058164c3ca1731e9e3a724c8c",
       "version_major": 2,
       "version_minor": 0
      },
      "text/plain": [
       "HBox(children=(HTML(value='Validating'), FloatProgress(value=1.0, bar_style='info', layout=Layout(flex='2'), m…"
      ]
     },
     "metadata": {},
     "output_type": "display_data"
    },
    {
     "data": {
      "application/vnd.jupyter.widget-view+json": {
       "model_id": "217534849e11475e9b92cc843fcf5bd6",
       "version_major": 2,
       "version_minor": 0
      },
      "text/plain": [
       "HBox(children=(HTML(value='Validating'), FloatProgress(value=1.0, bar_style='info', layout=Layout(flex='2'), m…"
      ]
     },
     "metadata": {},
     "output_type": "display_data"
    },
    {
     "data": {
      "application/vnd.jupyter.widget-view+json": {
       "model_id": "39b4304798a34a6283d30914dd1e9d69",
       "version_major": 2,
       "version_minor": 0
      },
      "text/plain": [
       "HBox(children=(HTML(value='Validating'), FloatProgress(value=1.0, bar_style='info', layout=Layout(flex='2'), m…"
      ]
     },
     "metadata": {},
     "output_type": "display_data"
    },
    {
     "data": {
      "application/vnd.jupyter.widget-view+json": {
       "model_id": "5b2eb3a05b1747dd9977ba84f1f1fbbc",
       "version_major": 2,
       "version_minor": 0
      },
      "text/plain": [
       "HBox(children=(HTML(value='Validating'), FloatProgress(value=1.0, bar_style='info', layout=Layout(flex='2'), m…"
      ]
     },
     "metadata": {},
     "output_type": "display_data"
    },
    {
     "data": {
      "application/vnd.jupyter.widget-view+json": {
       "model_id": "5fba11ca7d77402c99a7f3239cca72e6",
       "version_major": 2,
       "version_minor": 0
      },
      "text/plain": [
       "HBox(children=(HTML(value='Validating'), FloatProgress(value=1.0, bar_style='info', layout=Layout(flex='2'), m…"
      ]
     },
     "metadata": {},
     "output_type": "display_data"
    },
    {
     "data": {
      "application/vnd.jupyter.widget-view+json": {
       "model_id": "0db718dd85574ac4856cdb8cbc0bf38e",
       "version_major": 2,
       "version_minor": 0
      },
      "text/plain": [
       "HBox(children=(HTML(value='Validating'), FloatProgress(value=1.0, bar_style='info', layout=Layout(flex='2'), m…"
      ]
     },
     "metadata": {},
     "output_type": "display_data"
    },
    {
     "data": {
      "application/vnd.jupyter.widget-view+json": {
       "model_id": "057869125f9142a080bb5a45a5e89eb5",
       "version_major": 2,
       "version_minor": 0
      },
      "text/plain": [
       "HBox(children=(HTML(value='Validating'), FloatProgress(value=1.0, bar_style='info', layout=Layout(flex='2'), m…"
      ]
     },
     "metadata": {},
     "output_type": "display_data"
    },
    {
     "data": {
      "application/vnd.jupyter.widget-view+json": {
       "model_id": "6d8088c3e83548328837f64390cc8859",
       "version_major": 2,
       "version_minor": 0
      },
      "text/plain": [
       "HBox(children=(HTML(value='Validating'), FloatProgress(value=1.0, bar_style='info', layout=Layout(flex='2'), m…"
      ]
     },
     "metadata": {},
     "output_type": "display_data"
    },
    {
     "data": {
      "application/vnd.jupyter.widget-view+json": {
       "model_id": "2acee83b467c49e6840ad068b35e39e6",
       "version_major": 2,
       "version_minor": 0
      },
      "text/plain": [
       "HBox(children=(HTML(value='Validating'), FloatProgress(value=1.0, bar_style='info', layout=Layout(flex='2'), m…"
      ]
     },
     "metadata": {},
     "output_type": "display_data"
    },
    {
     "data": {
      "application/vnd.jupyter.widget-view+json": {
       "model_id": "3c0ce8be3fb34d1fa982e96c35a008b1",
       "version_major": 2,
       "version_minor": 0
      },
      "text/plain": [
       "HBox(children=(HTML(value='Validating'), FloatProgress(value=1.0, bar_style='info', layout=Layout(flex='2'), m…"
      ]
     },
     "metadata": {},
     "output_type": "display_data"
    },
    {
     "data": {
      "application/vnd.jupyter.widget-view+json": {
       "model_id": "6e2cc2292c8e4ced95f14ce0c561fa22",
       "version_major": 2,
       "version_minor": 0
      },
      "text/plain": [
       "HBox(children=(HTML(value='Validating'), FloatProgress(value=1.0, bar_style='info', layout=Layout(flex='2'), m…"
      ]
     },
     "metadata": {},
     "output_type": "display_data"
    },
    {
     "data": {
      "application/vnd.jupyter.widget-view+json": {
       "model_id": "052417e5a51047868ae1452a7c713eb6",
       "version_major": 2,
       "version_minor": 0
      },
      "text/plain": [
       "HBox(children=(HTML(value='Validating'), FloatProgress(value=1.0, bar_style='info', layout=Layout(flex='2'), m…"
      ]
     },
     "metadata": {},
     "output_type": "display_data"
    },
    {
     "data": {
      "application/vnd.jupyter.widget-view+json": {
       "model_id": "c422a45269424b8a95ab051d8b49e752",
       "version_major": 2,
       "version_minor": 0
      },
      "text/plain": [
       "HBox(children=(HTML(value='Validating'), FloatProgress(value=1.0, bar_style='info', layout=Layout(flex='2'), m…"
      ]
     },
     "metadata": {},
     "output_type": "display_data"
    },
    {
     "data": {
      "application/vnd.jupyter.widget-view+json": {
       "model_id": "25699e23e1344d95a098f11dd9a334de",
       "version_major": 2,
       "version_minor": 0
      },
      "text/plain": [
       "HBox(children=(HTML(value='Validating'), FloatProgress(value=1.0, bar_style='info', layout=Layout(flex='2'), m…"
      ]
     },
     "metadata": {},
     "output_type": "display_data"
    },
    {
     "data": {
      "application/vnd.jupyter.widget-view+json": {
       "model_id": "06e3456cee5e4c1b8a8cba182bd1d135",
       "version_major": 2,
       "version_minor": 0
      },
      "text/plain": [
       "HBox(children=(HTML(value='Validating'), FloatProgress(value=1.0, bar_style='info', layout=Layout(flex='2'), m…"
      ]
     },
     "metadata": {},
     "output_type": "display_data"
    },
    {
     "name": "stdout",
     "output_type": "stream",
     "text": [
      "\n"
     ]
    }
   ],
   "source": [
    "from torch.nn import L1Loss\n",
    "callbacks = [\n",
    "        EarlyStopping(\n",
    "            monitor=\"val_loss\",\n",
    "            patience=patience,\n",
    "        ),\n",
    "    ]\n",
    "\n",
    "trainer = Trainer(\n",
    "        max_epochs=max_epochs,\n",
    "        callbacks=callbacks,\n",
    "        log_every_n_steps=1,\n",
    "    )\n",
    "model_mae = Model(hidden_size = hidden_size, loss_func = L1Loss())\n",
    "trainer.fit(model_mae, train_dataloader, validate_dataloader)"
   ]
  },
  {
   "cell_type": "code",
   "execution_count": 16,
   "metadata": {},
   "outputs": [
    {
     "name": "stderr",
     "output_type": "stream",
     "text": [
      "/groups/hep/pcs557/anaconda3/lib/python3.8/site-packages/pytorch_lightning-1.5.6-py3.8.egg/pytorch_lightning/trainer/data_loading.py:116: UserWarning: The dataloader, predict_dataloader 0, does not have many workers which may be a bottleneck. Consider increasing the value of the `num_workers` argument` (try 40 which is the number of cpus on this machine) in the `DataLoader` init to improve performance.\n",
      "  rank_zero_warn(\n"
     ]
    },
    {
     "data": {
      "application/vnd.jupyter.widget-view+json": {
       "model_id": "205e5def74354a939392a8e44c6ab9cd",
       "version_major": 2,
       "version_minor": 0
      },
      "text/plain": [
       "HBox(children=(HTML(value='Predicting'), FloatProgress(value=1.0, bar_style='info', layout=Layout(flex='2'), m…"
      ]
     },
     "metadata": {},
     "output_type": "display_data"
    },
    {
     "name": "stdout",
     "output_type": "stream",
     "text": [
      "\n"
     ]
    },
    {
     "data": {
      "image/png": "[encoded data removed]",
      "text/plain": [
       "<Figure size 1800x360 with 5 Axes>"
      ]
     },
     "metadata": {
      "needs_background": "light"
     },
     "output_type": "display_data"
    }
   ],
   "source": [
    "results_mae = get_predictions(trainer, model_mae, test_dataloader)\n",
    "plot_residual(data_test[truth_column], results_mae, truth_scaler)"
   ]
  },
  {
   "cell_type": "code",
   "execution_count": 17,
   "metadata": {},
   "outputs": [
    {
     "name": "stderr",
     "output_type": "stream",
     "text": [
      "GPU available: False, used: False\n",
      "TPU available: False, using: 0 TPU cores\n",
      "IPU available: False, using: 0 IPUs\n",
      "\n",
      "  | Name                | Type      | Params\n",
      "--------------------------------------------------\n",
      "0 | mlp1                | Linear    | 6.1 K \n",
      "1 | mlp2                | Linear    | 1.0 M \n",
      "2 | mlp3                | Linear    | 1.0 M \n",
      "3 | mlp4                | Linear    | 1.0 M \n",
      "4 | mlp5                | Linear    | 1.0 M \n",
      "5 | mlp6                | Linear    | 1.0 K \n",
      "6 | activation_function | LeakyReLU | 0     \n",
      "--------------------------------------------------\n",
      "4.2 M     Trainable params\n",
      "0         Non-trainable params\n",
      "4.2 M     Total params\n",
      "16.822    Total estimated model params size (MB)\n"
     ]
    },
    {
     "data": {
      "application/vnd.jupyter.widget-view+json": {
       "model_id": "1e94eed6c7714a2f915c2e8111ba0dc6",
       "version_major": 2,
       "version_minor": 0
      },
      "text/plain": [
       "HBox(children=(HTML(value='Validation sanity check'), FloatProgress(value=1.0, bar_style='info', layout=Layout…"
      ]
     },
     "metadata": {},
     "output_type": "display_data"
    },
    {
     "name": "stderr",
     "output_type": "stream",
     "text": [
      "/groups/hep/pcs557/anaconda3/lib/python3.8/site-packages/pytorch_lightning-1.5.6-py3.8.egg/pytorch_lightning/trainer/data_loading.py:116: UserWarning: The dataloader, val_dataloader 0, does not have many workers which may be a bottleneck. Consider increasing the value of the `num_workers` argument` (try 40 which is the number of cpus on this machine) in the `DataLoader` init to improve performance.\n",
      "  rank_zero_warn(\n",
      "/groups/hep/pcs557/anaconda3/lib/python3.8/site-packages/pytorch_lightning-1.5.6-py3.8.egg/pytorch_lightning/trainer/data_loading.py:116: UserWarning: The dataloader, train_dataloader, does not have many workers which may be a bottleneck. Consider increasing the value of the `num_workers` argument` (try 40 which is the number of cpus on this machine) in the `DataLoader` init to improve performance.\n",
      "  rank_zero_warn(\n"
     ]
    },
    {
     "data": {
      "application/vnd.jupyter.widget-view+json": {
       "model_id": "7ce12b36f684421bace1d2dc59c94994",
       "version_major": 2,
       "version_minor": 0
      },
      "text/plain": [
       "HBox(children=(HTML(value='Training'), FloatProgress(value=1.0, bar_style='info', layout=Layout(flex='2'), max…"
      ]
     },
     "metadata": {},
     "output_type": "display_data"
    },
    {
     "data": {
      "application/vnd.jupyter.widget-view+json": {
       "model_id": "c856def24fc94f92b1a277d264ae697c",
       "version_major": 2,
       "version_minor": 0
      },
      "text/plain": [
       "HBox(children=(HTML(value='Validating'), FloatProgress(value=1.0, bar_style='info', layout=Layout(flex='2'), m…"
      ]
     },
     "metadata": {},
     "output_type": "display_data"
    },
    {
     "data": {
      "application/vnd.jupyter.widget-view+json": {
       "model_id": "67f55fe4ea364251b8ebcf6118e4e237",
       "version_major": 2,
       "version_minor": 0
      },
      "text/plain": [
       "HBox(children=(HTML(value='Validating'), FloatProgress(value=1.0, bar_style='info', layout=Layout(flex='2'), m…"
      ]
     },
     "metadata": {},
     "output_type": "display_data"
    },
    {
     "data": {
      "application/vnd.jupyter.widget-view+json": {
       "model_id": "582cd7d43b804559bd5a221594264d48",
       "version_major": 2,
       "version_minor": 0
      },
      "text/plain": [
       "HBox(children=(HTML(value='Validating'), FloatProgress(value=1.0, bar_style='info', layout=Layout(flex='2'), m…"
      ]
     },
     "metadata": {},
     "output_type": "display_data"
    },
    {
     "data": {
      "application/vnd.jupyter.widget-view+json": {
       "model_id": "b2a18df226ff4c5eaf7356aac0f7a342",
       "version_major": 2,
       "version_minor": 0
      },
      "text/plain": [
       "HBox(children=(HTML(value='Validating'), FloatProgress(value=1.0, bar_style='info', layout=Layout(flex='2'), m…"
      ]
     },
     "metadata": {},
     "output_type": "display_data"
    },
    {
     "data": {
      "application/vnd.jupyter.widget-view+json": {
       "model_id": "8e1e6989f7964a42b7fdd24cf77bfc18",
       "version_major": 2,
       "version_minor": 0
      },
      "text/plain": [
       "HBox(children=(HTML(value='Validating'), FloatProgress(value=1.0, bar_style='info', layout=Layout(flex='2'), m…"
      ]
     },
     "metadata": {},
     "output_type": "display_data"
    },
    {
     "data": {
      "application/vnd.jupyter.widget-view+json": {
       "model_id": "c6b7c43068374597b285101f6d9c919d",
       "version_major": 2,
       "version_minor": 0
      },
      "text/plain": [
       "HBox(children=(HTML(value='Validating'), FloatProgress(value=1.0, bar_style='info', layout=Layout(flex='2'), m…"
      ]
     },
     "metadata": {},
     "output_type": "display_data"
    },
    {
     "data": {
      "application/vnd.jupyter.widget-view+json": {
       "model_id": "b990eb81e32942eba8da0a04b4b09763",
       "version_major": 2,
       "version_minor": 0
      },
      "text/plain": [
       "HBox(children=(HTML(value='Validating'), FloatProgress(value=1.0, bar_style='info', layout=Layout(flex='2'), m…"
      ]
     },
     "metadata": {},
     "output_type": "display_data"
    },
    {
     "data": {
      "application/vnd.jupyter.widget-view+json": {
       "model_id": "e715dcace6b34cdb9dea3ab9e4408ccf",
       "version_major": 2,
       "version_minor": 0
      },
      "text/plain": [
       "HBox(children=(HTML(value='Validating'), FloatProgress(value=1.0, bar_style='info', layout=Layout(flex='2'), m…"
      ]
     },
     "metadata": {},
     "output_type": "display_data"
    },
    {
     "data": {
      "application/vnd.jupyter.widget-view+json": {
       "model_id": "2517c55f047e488f801d74f58bc7abc4",
       "version_major": 2,
       "version_minor": 0
      },
      "text/plain": [
       "HBox(children=(HTML(value='Validating'), FloatProgress(value=1.0, bar_style='info', layout=Layout(flex='2'), m…"
      ]
     },
     "metadata": {},
     "output_type": "display_data"
    },
    {
     "data": {
      "application/vnd.jupyter.widget-view+json": {
       "model_id": "449640cf827744b6a4b34fc23d2fdd9c",
       "version_major": 2,
       "version_minor": 0
      },
      "text/plain": [
       "HBox(children=(HTML(value='Validating'), FloatProgress(value=1.0, bar_style='info', layout=Layout(flex='2'), m…"
      ]
     },
     "metadata": {},
     "output_type": "display_data"
    },
    {
     "data": {
      "application/vnd.jupyter.widget-view+json": {
       "model_id": "c346e84b6636448ebcddc8de633497e8",
       "version_major": 2,
       "version_minor": 0
      },
      "text/plain": [
       "HBox(children=(HTML(value='Validating'), FloatProgress(value=1.0, bar_style='info', layout=Layout(flex='2'), m…"
      ]
     },
     "metadata": {},
     "output_type": "display_data"
    },
    {
     "data": {
      "application/vnd.jupyter.widget-view+json": {
       "model_id": "d5d2375ee1a0470faed861f0b9399e18",
       "version_major": 2,
       "version_minor": 0
      },
      "text/plain": [
       "HBox(children=(HTML(value='Validating'), FloatProgress(value=1.0, bar_style='info', layout=Layout(flex='2'), m…"
      ]
     },
     "metadata": {},
     "output_type": "display_data"
    },
    {
     "data": {
      "application/vnd.jupyter.widget-view+json": {
       "model_id": "1e7469fc04ba46d1936acc8cf87f862b",
       "version_major": 2,
       "version_minor": 0
      },
      "text/plain": [
       "HBox(children=(HTML(value='Validating'), FloatProgress(value=1.0, bar_style='info', layout=Layout(flex='2'), m…"
      ]
     },
     "metadata": {},
     "output_type": "display_data"
    },
    {
     "data": {
      "application/vnd.jupyter.widget-view+json": {
       "model_id": "f722960f413f4d54922216d32040084d",
       "version_major": 2,
       "version_minor": 0
      },
      "text/plain": [
       "HBox(children=(HTML(value='Validating'), FloatProgress(value=1.0, bar_style='info', layout=Layout(flex='2'), m…"
      ]
     },
     "metadata": {},
     "output_type": "display_data"
    },
    {
     "data": {
      "application/vnd.jupyter.widget-view+json": {
       "model_id": "f4f4c922fc11482e9a02a8ab0157199a",
       "version_major": 2,
       "version_minor": 0
      },
      "text/plain": [
       "HBox(children=(HTML(value='Validating'), FloatProgress(value=1.0, bar_style='info', layout=Layout(flex='2'), m…"
      ]
     },
     "metadata": {},
     "output_type": "display_data"
    },
    {
     "data": {
      "application/vnd.jupyter.widget-view+json": {
       "model_id": "a39745dc782e4df2b837b65303820b7d",
       "version_major": 2,
       "version_minor": 0
      },
      "text/plain": [
       "HBox(children=(HTML(value='Validating'), FloatProgress(value=1.0, bar_style='info', layout=Layout(flex='2'), m…"
      ]
     },
     "metadata": {},
     "output_type": "display_data"
    },
    {
     "data": {
      "application/vnd.jupyter.widget-view+json": {
       "model_id": "46be7921707a4b5ea01101b90cdb8949",
       "version_major": 2,
       "version_minor": 0
      },
      "text/plain": [
       "HBox(children=(HTML(value='Validating'), FloatProgress(value=1.0, bar_style='info', layout=Layout(flex='2'), m…"
      ]
     },
     "metadata": {},
     "output_type": "display_data"
    },
    {
     "name": "stdout",
     "output_type": "stream",
     "text": [
      "\n"
     ]
    }
   ],
   "source": [
    "def LogCosh(x,y):\n",
    "    return torch.mean(torch.log(torch.cosh(y-x)))\n",
    "callbacks = [\n",
    "        EarlyStopping(\n",
    "            monitor=\"val_loss\",\n",
    "            patience=patience,\n",
    "        ),\n",
    "    ]\n",
    "\n",
    "trainer = Trainer(\n",
    "        max_epochs=max_epochs,\n",
    "        callbacks=callbacks,\n",
    "        log_every_n_steps=1,\n",
    "    )\n",
    "model_logcosh = Model(hidden_size = hidden_size, loss_func = LogCosh)\n",
    "trainer.fit(model_logcosh, train_dataloader, validate_dataloader)"
   ]
  },
  {
   "cell_type": "code",
   "execution_count": 18,
   "metadata": {},
   "outputs": [
    {
     "name": "stderr",
     "output_type": "stream",
     "text": [
      "/groups/hep/pcs557/anaconda3/lib/python3.8/site-packages/pytorch_lightning-1.5.6-py3.8.egg/pytorch_lightning/trainer/data_loading.py:116: UserWarning: The dataloader, predict_dataloader 0, does not have many workers which may be a bottleneck. Consider increasing the value of the `num_workers` argument` (try 40 which is the number of cpus on this machine) in the `DataLoader` init to improve performance.\n",
      "  rank_zero_warn(\n"
     ]
    },
    {
     "data": {
      "application/vnd.jupyter.widget-view+json": {
       "model_id": "517d992a99ed449ea7564abd74c40469",
       "version_major": 2,
       "version_minor": 0
      },
      "text/plain": [
       "HBox(children=(HTML(value='Predicting'), FloatProgress(value=1.0, bar_style='info', layout=Layout(flex='2'), m…"
      ]
     },
     "metadata": {},
     "output_type": "display_data"
    },
    {
     "name": "stdout",
     "output_type": "stream",
     "text": [
      "\n"
     ]
    },
    {
     "data": {
      "image/png": "[encoded data removed]",
      "text/plain": [
       "<Figure size 1800x360 with 5 Axes>"
      ]
     },
     "metadata": {
      "needs_background": "light"
     },
     "output_type": "display_data"
    }
   ],
   "source": [
    "results_logcosh = get_predictions(trainer, model_logcosh, test_dataloader)\n",
    "plot_residual(data_test[truth_column], results_logcosh, truth_scaler)"
   ]
  },
  {
   "cell_type": "markdown",
   "metadata": {},
   "source": [
    "OK. Let's compare resolutions!"
   ]
  },
  {
   "cell_type": "code",
   "execution_count": 19,
   "metadata": {},
   "outputs": [
    {
     "data": {
      "text/plain": [
       "(0.0, 200.0)"
      ]
     },
     "execution_count": 19,
     "metadata": {},
     "output_type": "execute_result"
    },
    {
     "data": {
      "image/png": "[encoded data removed]",
      "text/plain": [
       "<Figure size 720x720 with 1 Axes>"
      ]
     },
     "metadata": {
      "needs_background": "light"
     },
     "output_type": "display_data"
    }
   ],
   "source": [
    "_, res_logcosh = calculate_energy_resolution(data_test[truth_column].to_numpy().reshape(-1,1), results_logcosh, truth_scaler)\n",
    "_, res_mae = calculate_energy_resolution(data_test[truth_column].to_numpy().reshape(-1,1), results_mae, truth_scaler)\n",
    "means, res_mse = calculate_energy_resolution(data_test[truth_column].to_numpy().reshape(-1,1), results, truth_scaler)\n",
    "\n",
    "fig = plt.figure(figsize = (10,10))\n",
    "plt.plot(means, res_logcosh, label ='logcosh', color = 'tab:blue')\n",
    "plt.plot(means, res_mae, label ='mae', color = 'tab:orange')\n",
    "plt.plot(means, res_mse, label ='mse', color = 'tab:green')\n",
    "plt.legend()\n",
    "plt.xlabel('True Energy [log10 GeV]', size = 20)\n",
    "plt.ylabel('Resolution [%]', size = 20)\n",
    "plt.xlim([4.5,6])\n",
    "plt.ylim([0,200])"
   ]
  },
  {
   "cell_type": "markdown",
   "metadata": {},
   "source": [
    "Seems like a tight race! You can read more about these loss functions (and others) here: https://heartbeat.comet.ml/5-regression-loss-functions-all-machine-learners-should-know-4fb140e9d4b0"
   ]
  }
 ],
 "metadata": {
  "kernelspec": {
   "display_name": "Python 3.8.5 ('base': conda)",
   "language": "python",
   "name": "python3"
  },
  "language_info": {
   "codemirror_mode": {
    "name": "ipython",
    "version": 3
   },
   "file_extension": ".py",
   "mimetype": "text/x-python",
   "name": "python",
   "nbconvert_exporter": "python",
   "pygments_lexer": "ipython3",
   "version": "3.8.5"
  },
  "vscode": {
   "interpreter": {
    "hash": "21cf8b380de431a5e5010e940b169c26f77ab15b956b844683fc6955ec44afe3"
   }
  }
 },
 "nbformat": 4,
 "nbformat_minor": 2
}
