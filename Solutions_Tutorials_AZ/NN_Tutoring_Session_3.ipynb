{
 "cells": [
  {
   "cell_type": "markdown",
   "id": "102229a0-bd8a-448e-a878-96182c71589c",
   "metadata": {},
   "source": [
    "# Neural Networks\n",
    "\n",
    "## 1. Try out an auto-diff library (e.g. tensorflow) to automatically calculate derivatives of some test functions.\n",
    "\n",
    "Some useful links:      \n",
    "I. Computational graphs:    \n",
    "https://www.codingame.com/playgrounds/9487/deep-learning-from-scratch---theory-and-implementation/computational-graphs#:~:text=A%20computational%20graph%20is%20a,a%20function%20of%20the%20variables.\n",
    "\n",
    "II. Gentle introductions to Autodiff and examples:    \n",
    "https://marksaroufim.medium.com/automatic-differentiation-step-by-step-24240f97a6e6     \n",
    "https://www.tensorflow.org/guide/autodiff"
   ]
  },
  {
   "cell_type": "code",
   "execution_count": 38,
   "id": "c239cdc1-36e2-4ee1-9810-0b6db9ae078b",
   "metadata": {},
   "outputs": [],
   "source": [
    "import math as m\n",
    "import numpy as np\n",
    "import matplotlib.pyplot as plt\n",
    "import tensorflow as tf;"
   ]
  },
  {
   "cell_type": "code",
   "execution_count": 388,
   "id": "9c02a81a-8b02-4e92-8f06-2fb8cad54018",
   "metadata": {},
   "outputs": [],
   "source": [
    "x = tf.Variable(5.)\n",
    "\n",
    "with tf.GradientTape() as tape:\n",
    "    y = x**2 + x"
   ]
  },
  {
   "cell_type": "code",
   "execution_count": 389,
   "id": "c2e4802a-2e62-43a6-8e45-e3fb32742a45",
   "metadata": {},
   "outputs": [
    {
     "data": {
      "text/plain": [
       "11.0"
      ]
     },
     "execution_count": 389,
     "metadata": {},
     "output_type": "execute_result"
    }
   ],
   "source": [
    "# dy_dx = 2*x + 1\n",
    "dy_dx = tape.gradient(y, x)\n",
    "dy_dx.numpy()"
   ]
  },
  {
   "cell_type": "code",
   "execution_count": 97,
   "id": "69c6d6f8-a6f6-4db6-b28a-1493ca46bbb7",
   "metadata": {},
   "outputs": [
    {
     "data": {
      "text/plain": [
       "11"
      ]
     },
     "execution_count": 97,
     "metadata": {},
     "output_type": "execute_result"
    }
   ],
   "source": [
    "2*5 + 1"
   ]
  },
  {
   "cell_type": "code",
   "execution_count": 404,
   "id": "6cb983f3-e18b-4c19-af91-a511812927f1",
   "metadata": {},
   "outputs": [],
   "source": [
    "x = tf.Variable(3.)\n",
    "\n",
    "with tf.GradientTape() as tape:\n",
    "    y = x**4\n",
    "    z = y**2"
   ]
  },
  {
   "cell_type": "code",
   "execution_count": 405,
   "id": "1509d807-be77-42db-a9d8-f78ae96946a8",
   "metadata": {},
   "outputs": [
    {
     "data": {
      "text/plain": [
       "17496.0"
      ]
     },
     "execution_count": 405,
     "metadata": {},
     "output_type": "execute_result"
    }
   ],
   "source": [
    "# dz_dy = 8*x**7\n",
    "dz_dx = tape.gradient(z, x)\n",
    "dz_dx.numpy()"
   ]
  },
  {
   "cell_type": "code",
   "execution_count": 94,
   "id": "77bcb7a0-1949-4c80-81b0-afe2f023d6ed",
   "metadata": {},
   "outputs": [
    {
     "data": {
      "text/plain": [
       "1024"
      ]
     },
     "execution_count": 94,
     "metadata": {},
     "output_type": "execute_result"
    }
   ],
   "source": [
    "8*2**7"
   ]
  },
  {
   "cell_type": "code",
   "execution_count": 392,
   "id": "79364869-6357-42d3-8941-bcd7db75c48b",
   "metadata": {},
   "outputs": [],
   "source": [
    "x = tf.Variable(1.)\n",
    "\n",
    "with tf.GradientTape() as tape:\n",
    "    y = 2*x\n",
    "    z = tf.math.exp(y)"
   ]
  },
  {
   "cell_type": "code",
   "execution_count": 393,
   "id": "183a5957-bed8-43c0-8566-6a153515f200",
   "metadata": {},
   "outputs": [
    {
     "data": {
      "text/plain": [
       "14.778112"
      ]
     },
     "execution_count": 393,
     "metadata": {},
     "output_type": "execute_result"
    }
   ],
   "source": [
    "# dz_dx = 2*exp(2*y)\n",
    "dz_dx = tape.gradient(z, x)\n",
    "dz_dx.numpy()"
   ]
  },
  {
   "cell_type": "code",
   "execution_count": 93,
   "id": "b234adae-2fc6-4f4a-b358-98e0697c049b",
   "metadata": {},
   "outputs": [
    {
     "data": {
      "text/plain": [
       "14.7781121978613"
      ]
     },
     "execution_count": 93,
     "metadata": {},
     "output_type": "execute_result"
    }
   ],
   "source": [
    "2*np.exp(2)"
   ]
  },
  {
   "cell_type": "code",
   "execution_count": 277,
   "id": "db93aa8f-2b88-4a15-ae8b-72c1b3589641",
   "metadata": {},
   "outputs": [],
   "source": [
    "x = tf.Variable([1., 2.])\n",
    "\n",
    "with tf.GradientTape() as tape:\n",
    "    y = 2*x\n",
    "    z = tf.math.exp(y)"
   ]
  },
  {
   "cell_type": "code",
   "execution_count": 278,
   "id": "39c6834a-4aff-4608-bdc6-12c80642d96a",
   "metadata": {},
   "outputs": [
    {
     "name": "stdout",
     "output_type": "stream",
     "text": [
      "[ 7.389056 54.59815 ]\n",
      "7.389056\n",
      "54.59815\n",
      "2.0\n"
     ]
    }
   ],
   "source": [
    "# dz_dy = exp(y)\n",
    "dz_dy = tape.gradient(z, y)\n",
    "print(dz_dy.numpy())\n",
    "for i in range(x.shape[0]):\n",
    "    print(dz_dy.numpy()[i])\n",
    "print(x.numpy()[1])"
   ]
  },
  {
   "cell_type": "code",
   "execution_count": 121,
   "id": "4738d647-99d0-4364-ae26-7b5fed4d7e5a",
   "metadata": {},
   "outputs": [
    {
     "data": {
      "text/plain": [
       "(7.38905609893065, 54.598150033144236)"
      ]
     },
     "execution_count": 121,
     "metadata": {},
     "output_type": "execute_result"
    }
   ],
   "source": [
    "(np.exp(2), np.exp(2*2))"
   ]
  },
  {
   "cell_type": "code",
   "execution_count": 394,
   "id": "3ca56f12-5a2f-4103-bf3c-36cb082225c4",
   "metadata": {},
   "outputs": [],
   "source": [
    "def probe_f(x):\n",
    "    return 3*x**2 + 1\n",
    "\n",
    "x = tf.Variable(2.)\n",
    "\n",
    "with tf.GradientTape() as tape:\n",
    "    z = probe_f(x)"
   ]
  },
  {
   "cell_type": "code",
   "execution_count": 395,
   "id": "d5b99169-9a1a-429a-8550-df7b8a41f6cd",
   "metadata": {},
   "outputs": [
    {
     "data": {
      "text/plain": [
       "12.0"
      ]
     },
     "execution_count": 395,
     "metadata": {},
     "output_type": "execute_result"
    }
   ],
   "source": [
    "# dz_dx = 6*x\n",
    "dz_dx = tape.gradient(z, x)\n",
    "dz_dx.numpy()"
   ]
  },
  {
   "cell_type": "code",
   "execution_count": 116,
   "id": "1f2cbb4b-574b-4fec-8363-8f5f7fb406ea",
   "metadata": {},
   "outputs": [
    {
     "data": {
      "text/plain": [
       "12"
      ]
     },
     "execution_count": 116,
     "metadata": {},
     "output_type": "execute_result"
    }
   ],
   "source": [
    "6*2"
   ]
  },
  {
   "cell_type": "markdown",
   "id": "2b27cb06-f5fb-4cf8-a671-897ac5030d1b",
   "metadata": {},
   "source": [
    "## 2. Use this in your simple bisection search from exercise 3.1."
   ]
  },
  {
   "cell_type": "code",
   "execution_count": 421,
   "id": "8ee49a2e-fc24-4e0f-bb24-468edd24647f",
   "metadata": {},
   "outputs": [],
   "source": [
    "def g(x):\n",
    "    return x**2 + tf.math.exp(2*tf.sin(x)**2) + x**x\n",
    "\n",
    "def f(x):\n",
    "    return x**2\n",
    "\n",
    "def gradient_f(f, X, is_list=False):\n",
    "    \n",
    "    if is_list:\n",
    "        X = np.array(X, dtype=np.float32)\n",
    "    else:\n",
    "        X = float(X)\n",
    "        \n",
    "    with tf.GradientTape() as tape:\n",
    "        X_tf = tf.Variable(X)\n",
    "        Y = f(X_tf)\n",
    "    \n",
    "        grad_f = tape.gradient(Y, X_tf)\n",
    "        \n",
    "        grad_f = grad_f.numpy()\n",
    "        grad_f = np.array(grad_f).tolist()\n",
    "\n",
    "    \n",
    "    return grad_f\n"
   ]
  },
  {
   "cell_type": "code",
   "execution_count": 422,
   "id": "e83b24bd-3c31-4a88-8b5e-7a2c8fdbf4de",
   "metadata": {},
   "outputs": [
    {
     "data": {
      "text/plain": [
       "4.160078525543213"
      ]
     },
     "execution_count": 422,
     "metadata": {},
     "output_type": "execute_result"
    }
   ],
   "source": [
    "gradient_f(g, -2)"
   ]
  },
  {
   "cell_type": "code",
   "execution_count": 350,
   "id": "e1e0a5ad-67be-48d1-836c-21b1c4d0c052",
   "metadata": {},
   "outputs": [],
   "source": [
    "def bisec_f(f, interval, eps):\n",
    "    a = interval[0]\n",
    "    b = interval[1]\n",
    "    \n",
    "    if gradient_f(f, a)*gradient_f(f, b) >= 0:\n",
    "        return print('Error: grad_f(a) and grad_f(b) cannot be zero and must have different signs.')\n",
    "    \n",
    "    iterations = 0\n",
    "    \n",
    "    if gradient_f(f, a) < 0:\n",
    "        x_neg = a\n",
    "        x_pos = b\n",
    "    else:\n",
    "        x_neg = b\n",
    "        x_pos = a\n",
    "            \n",
    "    while gradient_f(f, x_neg)*gradient_f(f, x_pos) < -eps**2:\n",
    "        \n",
    "        iterations += 1\n",
    "          \n",
    "        x = (x_neg + x_pos)/2\n",
    "        \n",
    "        if gradient_f(f, x) < 0:\n",
    "            x_neg = x\n",
    "        elif gradient_f(f, x) > 0:\n",
    "            x_pos = x\n",
    "        else:\n",
    "            x_neg = x\n",
    "            x_pos = x\n",
    "       \n",
    "    x0 = (x_neg + x_pos)/2\n",
    "    return [x0, iterations]\n"
   ]
  },
  {
   "cell_type": "code",
   "execution_count": 423,
   "id": "c3bdc828-82da-409a-9f1d-1713bb44f3e2",
   "metadata": {},
   "outputs": [
    {
     "data": {
      "text/plain": [
       "[-4.76837158203125e-06, 21]"
      ]
     },
     "execution_count": 423,
     "metadata": {},
     "output_type": "execute_result"
    }
   ],
   "source": [
    "bisec_f(f, [-80, 100.], 1e-4)"
   ]
  },
  {
   "cell_type": "code",
   "execution_count": null,
   "id": "508ba873-571c-40ba-a07c-e33ae4b8cec4",
   "metadata": {},
   "outputs": [],
   "source": []
  }
 ],
 "metadata": {
  "kernelspec": {
   "display_name": "Python 3 (ipykernel)",
   "language": "python",
   "name": "python3"
  },
  "language_info": {
   "codemirror_mode": {
    "name": "ipython",
    "version": 3
   },
   "file_extension": ".py",
   "mimetype": "text/x-python",
   "name": "python",
   "nbconvert_exporter": "python",
   "pygments_lexer": "ipython3",
   "version": "3.9.12"
  }
 },
 "nbformat": 4,
 "nbformat_minor": 5
}
