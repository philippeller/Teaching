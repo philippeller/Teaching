{
 "cells": [
  {
   "cell_type": "markdown",
   "metadata": {},
   "source": [
    "**Optimization**\n",
    "\n",
    "    1. Consider a simple function like f(x) = x^2\n",
    "        a) Can you devise an algorithm based n a bisection strategy (line search) to approximate the minimum in a given interval [a,b]?\n",
    "Let's start by defining the function. I found https://www.rookieslab.com/posts/linear-search-vs-bisection-search-in-python helpful in solving this problem."
   ]
  },
  {
   "cell_type": "code",
   "execution_count": 47,
   "metadata": {},
   "outputs": [],
   "source": [
    "def f(x):\n",
    "    return x**2\n",
    "    \n",
    "def f_diff(x):\n",
    "    return 2*x"
   ]
  },
  {
   "cell_type": "markdown",
   "metadata": {},
   "source": [
    "Let's now defined a sorted list that serves as our interval. "
   ]
  },
  {
   "cell_type": "code",
   "execution_count": 48,
   "metadata": {},
   "outputs": [],
   "source": [
    "import numpy as np\n",
    "interval = np.arange(0,1000000,1)"
   ]
  },
  {
   "cell_type": "markdown",
   "metadata": {},
   "source": [
    "OK - let's now define the bisection function."
   ]
  },
  {
   "cell_type": "code",
   "execution_count": 49,
   "metadata": {},
   "outputs": [
    {
     "name": "stdout",
     "output_type": "stream",
     "text": [
      "Search found minima 0 in 20 iterations\n",
      "True minima is 0\n"
     ]
    }
   ],
   "source": [
    "def bisection_search(f, interval):\n",
    "    y = f(interval)\n",
    "    smallest_y = np.min(y)\n",
    "    iterations = 1\n",
    "    stop = False\n",
    "    allowed_indices = np.arange(0, len(y),1)\n",
    "    middle_index = len(allowed_indices)//2\n",
    "    while (stop == False) and (y[middle_index] != smallest_y): \n",
    "        if  y[middle_index] > np.min(y):\n",
    "            allowed_indices[middle_index:] = -1\n",
    "        else:\n",
    "            allowed_indices[:middle_index] = -1\n",
    "        middle_index = allowed_indices[allowed_indices!= -1][len(allowed_indices[allowed_indices!= -1])//2] \n",
    "        iterations += 1\n",
    "        if iterations > 500:\n",
    "            stop = True\n",
    "    return middle_index, y[middle_index], iterations\n",
    "\n",
    "middle_index, lowest_point, iterations = bisection_search(f, interval)\n",
    "print(f\"Search found minima {lowest_point} in {iterations} iterations\")\n",
    "print(f\"True minima is {np.min(f(interval))}\")"
   ]
  },
  {
   "cell_type": "markdown",
   "metadata": {},
   "source": [
    "OK. So we found the minima of a list with a million elements in just 20 steps!"
   ]
  },
  {
   "cell_type": "markdown",
   "metadata": {},
   "source": [
    "    B) Implement such an algorithm in a computer language, use analytic gradients\n",
    "\n",
    "We can modify the code above to look for where the gradient is 0. "
   ]
  },
  {
   "cell_type": "code",
   "execution_count": 50,
   "metadata": {},
   "outputs": [
    {
     "name": "stdout",
     "output_type": "stream",
     "text": [
      "Found Gradient to be 0 at x = 0 in 20 iterations\n",
      "True 0-point at x= [0]\n"
     ]
    }
   ],
   "source": [
    "def bisection_gradient(gradient, interval):\n",
    "    y = gradient(interval)\n",
    "    iterations = 1\n",
    "    stop = False\n",
    "    allowed_indices = np.arange(0, len(y),1)\n",
    "    middle_index = len(allowed_indices)//2\n",
    "    while (stop == False) and (y[middle_index] != 0): \n",
    "        if  y[middle_index] > np.min(y):\n",
    "            allowed_indices[middle_index:] = -1\n",
    "        else:\n",
    "            allowed_indices[:middle_index] = -1\n",
    "        middle_index = allowed_indices[allowed_indices!= -1][len(allowed_indices[allowed_indices!= -1])//2] \n",
    "        iterations += 1\n",
    "        if iterations > 500:\n",
    "            stop = True\n",
    "    return middle_index, y[middle_index], iterations\n",
    "\n",
    "middle_index, lowest_point, iterations = bisection_gradient(f_diff, interval)\n",
    "print(f\"Found Gradient to be 0 at x = {middle_index} in {iterations} iterations\")\n",
    "print(f\"True 0-point at x= {interval[f_diff(interval)==0]}\")\n",
    " "
   ]
  }
 ],
 "metadata": {
  "kernelspec": {
   "display_name": "Python 3.7.5 ('base': conda)",
   "language": "python",
   "name": "python3"
  },
  "language_info": {
   "codemirror_mode": {
    "name": "ipython",
    "version": 3
   },
   "file_extension": ".py",
   "mimetype": "text/x-python",
   "name": "python",
   "nbconvert_exporter": "python",
   "pygments_lexer": "ipython3",
   "version": "3.7.5"
  },
  "orig_nbformat": 4,
  "vscode": {
   "interpreter": {
    "hash": "49fa95f8682c3efc604b9952cbd156675841b5fb5062eb2aceaa794a0e20c2ad"
   }
  }
 },
 "nbformat": 4,
 "nbformat_minor": 2
}
