{
 "cells": [
  {
   "cell_type": "code",
   "execution_count": null,
   "metadata": {},
   "outputs": [],
   "source": [
    "import numpy as np\n",
    "from scipy import stats\n",
    "from scipy.spatial import Voronoi, voronoi_plot_2d\n",
    "import matplotlib.pyplot as plt\n",
    "from matplotlib.patches import Ellipse"
   ]
  },
  {
   "cell_type": "code",
   "execution_count": null,
   "metadata": {},
   "outputs": [],
   "source": [
    "plt.rcParams['figure.figsize'] = [12., 8.]\n",
    "plt.rcParams['xtick.labelsize'] = 14\n",
    "plt.rcParams['ytick.labelsize'] = 14 \n",
    "plt.rcParams['axes.labelsize'] = 16\n",
    "plt.rcParams['axes.titlesize'] = 16\n",
    "plt.rcParams['legend.fontsize'] = 14\n",
    "\n",
    "cmap = \"tab10_r\"\n",
    "colors = plt.get_cmap(cmap)"
   ]
  },
  {
   "cell_type": "code",
   "execution_count": null,
   "metadata": {},
   "outputs": [],
   "source": [
    "def draw_ellipse(position, covariance, ax=None, **kwargs):\n",
    "    \"\"\"Draw an ellipse with a given position and covariance\n",
    "    source: https://jakevdp.github.io\n",
    "    \"\"\"\n",
    "    ax = ax or plt.gca()\n",
    "    \n",
    "    # Convert covariance to principal axes\n",
    "    if covariance.shape == (2, 2):\n",
    "        U, s, Vt = np.linalg.svd(covariance)\n",
    "        angle = np.degrees(np.arctan2(U[1, 0], U[0, 0]))\n",
    "        width, height = 2 * np.sqrt(s)\n",
    "    else:\n",
    "        angle = 0\n",
    "        width, height = 2 * np.sqrt(covariance)\n",
    "    \n",
    "    # Draw the Ellipse\n",
    "    for nsig in range(1, 4):\n",
    "        ax.add_patch(Ellipse(position, nsig * width, nsig * height,\n",
    "                             angle, **kwargs))"
   ]
  },
  {
   "cell_type": "markdown",
   "metadata": {},
   "source": [
    "# Clusterin Basics"
   ]
  },
  {
   "cell_type": "markdown",
   "metadata": {},
   "source": [
    "## Generating some artificial test data in 2d\n",
    "We sample from 3 multivariate gaussian distributions with known mean $\\mu$ and covariance $\\Sigma$"
   ]
  },
  {
   "cell_type": "code",
   "execution_count": null,
   "metadata": {},
   "outputs": [],
   "source": [
    "true_means = np.array([\n",
    "              [1,1],\n",
    "              [3,3],\n",
    "              [3,0],\n",
    "             ])\n",
    "\n",
    "true_covs = np.array([\n",
    "             [[1, 0],   [0, 1]],\n",
    "             [[0.2, 0.1],   [0.1, 0.2]],\n",
    "             [[0.8, 0], [0, 0.2]],\n",
    "            ])"
   ]
  },
  {
   "cell_type": "markdown",
   "metadata": {},
   "source": [
    "Generate random variates (N each)"
   ]
  },
  {
   "cell_type": "code",
   "execution_count": null,
   "metadata": {},
   "outputs": [],
   "source": [
    "N = 300\n",
    "\n",
    "rvss = []\n",
    "for i in range(len(true_means)):\n",
    "    rvss.append(stats.multivariate_normal(true_means[i], true_covs[i]).rvs(N))"
   ]
  },
  {
   "cell_type": "code",
   "execution_count": null,
   "metadata": {},
   "outputs": [],
   "source": [
    "true_labels = np.arange(3).repeat(N)"
   ]
  },
  {
   "cell_type": "markdown",
   "metadata": {},
   "source": [
    "Visualizing our samples in a scattering plot. Since we know the truth, we can colorize the samples in different colors"
   ]
  },
  {
   "cell_type": "code",
   "execution_count": null,
   "metadata": {},
   "outputs": [],
   "source": [
    "for i in range(len(rvss)):\n",
    "    plt.scatter(rvss[i][:,0], rvss[i][:,1], color=colors(i))"
   ]
  },
  {
   "cell_type": "markdown",
   "metadata": {},
   "source": [
    "For clustering (unsupervised ML), we do not know which distribution each sample was drawn from\n",
    "So let's concatenate those into a single vector\n",
    "\n",
    "Our dataset to perform the clustering on now is $X$"
   ]
  },
  {
   "cell_type": "code",
   "execution_count": null,
   "metadata": {},
   "outputs": [],
   "source": [
    "X = np.concatenate(rvss)"
   ]
  },
  {
   "cell_type": "markdown",
   "metadata": {},
   "source": [
    "So now we cannot assume that we know true labels anymore"
   ]
  },
  {
   "cell_type": "code",
   "execution_count": null,
   "metadata": {},
   "outputs": [],
   "source": [
    "plt.scatter(X[:,0], X[:,1])"
   ]
  },
  {
   "cell_type": "markdown",
   "metadata": {},
   "source": [
    "## K-means\n",
    "\n",
    "our first algorithm will be the standard k-means (Lloyd)"
   ]
  },
  {
   "cell_type": "code",
   "execution_count": null,
   "metadata": {},
   "outputs": [],
   "source": [
    "# the task here will be to implement this missing function\n",
    "# Looking something like:\n",
    "# def kmeans(X, n):\n",
    "#     ...magic code...\n",
    "#     return centroids, labels\n",
    "\n",
    "# This is my (hidden) solution\n",
    "from my_mystery_module import kmeans"
   ]
  },
  {
   "cell_type": "code",
   "execution_count": null,
   "metadata": {},
   "outputs": [],
   "source": [
    "centroids, labels = kmeans(X, 3)"
   ]
  },
  {
   "cell_type": "code",
   "execution_count": null,
   "metadata": {},
   "outputs": [],
   "source": [
    "plt.scatter(X[:,0], X[:,1], color=colors(labels + 5))\n",
    "for i in range(len(true_means)):\n",
    "    draw_ellipse(np.array(true_means[i]), np.array(true_covs[i]), alpha=0.5, edgecolor='k', facecolor='none', lw=1)\n",
    "    \n",
    "plt.gca().set_xlim(np.min(X[:,0]), np.max(X[:,0]))\n",
    "plt.gca().set_ylim(np.min(X[:,1]), np.max(X[:,1]))"
   ]
  },
  {
   "cell_type": "code",
   "execution_count": null,
   "metadata": {},
   "outputs": [],
   "source": [
    "plt.scatter(X[:,0], X[:,1], color=colors(true_labels))\n",
    "    \n",
    "vor = Voronoi(centroids,)\n",
    "voronoi_plot_2d(vor, ax=plt.gca(), line_colors='red', show_vertices=False, show_points=True, point_size=30, line_width=2);\n",
    "\n",
    "plt.gca().set_xlim(np.min(X[:,0]), np.max(X[:,0]))\n",
    "plt.gca().set_ylim(np.min(X[:,1]), np.max(X[:,1]))"
   ]
  },
  {
   "cell_type": "markdown",
   "metadata": {},
   "source": [
    "Step-by-step k-means"
   ]
  },
  {
   "cell_type": "code",
   "execution_count": null,
   "metadata": {},
   "outputs": [],
   "source": [
    "n_panels = 4\n",
    "\n",
    "fig, ax = plt.subplots(n_panels,n_panels, figsize=(22,22))\n",
    "\n",
    "centroids, labels = kmeans(X, 3, n_iter=1)\n",
    "\n",
    "for i in range(n_panels**2):\n",
    "    axis = ax[i//n_panels, i%n_panels]\n",
    "    axis.scatter(X[:,0], X[:,1], color=colors(labels + 5), s=5)\n",
    "    centroids, labels = kmeans(X, 3, centroids=centroids, n_iter=1)\n",
    "    voronoi_plot_2d(Voronoi(centroids), ax=axis, line_colors='red', show_vertices=False, show_points=True, point_size=30, line_width=2);\n",
    "    axis.set_title(f'Step {i}')\n",
    "    \n",
    "    axis.set_xlim(np.min(X[:,0]), np.max(X[:,0]))\n",
    "    axis.set_ylim(np.min(X[:,1]), np.max(X[:,1]))"
   ]
  },
  {
   "cell_type": "markdown",
   "metadata": {},
   "source": [
    "## Gaussian Mixture Model (GMM)"
   ]
  },
  {
   "cell_type": "code",
   "execution_count": null,
   "metadata": {},
   "outputs": [],
   "source": [
    "from my_mystery_module import gmm\n",
    "# Here again, implement such a function"
   ]
  },
  {
   "cell_type": "code",
   "execution_count": null,
   "metadata": {},
   "outputs": [],
   "source": [
    "mus, covs, exps = gmm(X, 3)"
   ]
  },
  {
   "cell_type": "code",
   "execution_count": null,
   "metadata": {},
   "outputs": [],
   "source": [
    "covs"
   ]
  },
  {
   "cell_type": "code",
   "execution_count": null,
   "metadata": {},
   "outputs": [],
   "source": [
    "true_covs"
   ]
  },
  {
   "cell_type": "code",
   "execution_count": null,
   "metadata": {},
   "outputs": [],
   "source": [
    "fig, ax = plt.subplots(1,2, figsize=(22,10))\n",
    "\n",
    "ax[0].scatter(X[:,0], X[:,1], color='k')\n",
    "\n",
    "for i in range(len(mus)):\n",
    "    draw_ellipse(mus[i], covs[i], alpha=0.2, color=colors(i+5), ax=ax[0])\n",
    "    \n",
    "ax[1].scatter(X[:,0], X[:,1], color='k')\n",
    "\n",
    "for i in range(len(mus)):\n",
    "    draw_ellipse(np.array(true_means[i]), np.array(true_covs[i]), alpha=0.2, color=colors(i), ax=ax[1])\n",
    "    \n",
    "ax[0].set_title('Predicted')\n",
    "ax[1].set_title('True')\n"
   ]
  },
  {
   "cell_type": "code",
   "execution_count": null,
   "metadata": {},
   "outputs": [],
   "source": [
    "plt.scatter(X[:,0], X[:,1], color='k', s=2)\n",
    "\n",
    "for i in range(len(mus)):\n",
    "    draw_ellipse(mus[i], covs[i], alpha=0.2, color=colors(i+5))\n",
    "    draw_ellipse(np.array(true_means[i]), np.array(true_covs[i]), alpha=1, edgecolor='k', facecolor='none', lw=1)"
   ]
  },
  {
   "cell_type": "code",
   "execution_count": null,
   "metadata": {},
   "outputs": [],
   "source": [
    "n_panels = 5\n",
    "\n",
    "fig, ax = plt.subplots(n_panels, n_panels, figsize=(22,22))\n",
    "\n",
    "mus, covs, exps = gmm(X, 3, n_iter=0)\n",
    "\n",
    "for i in range(n_panels**2):\n",
    "    axis = ax[i//n_panels, i%n_panels]\n",
    "    mus, covs, exps = gmm(X, 3, mus=mus, covs=covs, n_iter=1)\n",
    "    axis.set_title(f'Step {i}')\n",
    "    \n",
    "    for i in range(len(mus)):\n",
    "        draw_ellipse(mus[i], covs[i], alpha=0.2, color=colors(i+5), ax=axis)\n",
    "\n",
    "    axis.scatter(X[:,0], X[:,1], color='k', s=5)\n",
    "\n",
    "        \n",
    "    axis.set_xlim(np.min(X[:,0]), np.max(X[:,0]))\n",
    "    axis.set_ylim(np.min(X[:,1]), np.max(X[:,1]))"
   ]
  },
  {
   "cell_type": "markdown",
   "metadata": {},
   "source": [
    "We can always transform this into a \"hard\" clustering, by assigning the a point to the gaussian yielding the largest probability"
   ]
  },
  {
   "cell_type": "code",
   "execution_count": null,
   "metadata": {},
   "outputs": [],
   "source": [
    "gmm_labels = np.argmax(exps, axis=1)"
   ]
  },
  {
   "cell_type": "code",
   "execution_count": null,
   "metadata": {},
   "outputs": [],
   "source": [
    "plt.scatter(X[:,0], X[:,1], c=colors(gmm_labels+5))"
   ]
  }
 ],
 "metadata": {
  "kernelspec": {
   "display_name": "Python 3",
   "language": "python",
   "name": "python3"
  },
  "language_info": {
   "codemirror_mode": {
    "name": "ipython",
    "version": 3
   },
   "file_extension": ".py",
   "mimetype": "text/x-python",
   "name": "python",
   "nbconvert_exporter": "python",
   "pygments_lexer": "ipython3",
   "version": "3.7.6"
  }
 },
 "nbformat": 4,
 "nbformat_minor": 4
}
