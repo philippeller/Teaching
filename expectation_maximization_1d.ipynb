{
 "cells": [
  {
   "cell_type": "code",
   "execution_count": null,
   "metadata": {},
   "outputs": [],
   "source": [
    "import numpy as np\n",
    "import matplotlib.pyplot as plt\n",
    "from scipy import stats\n",
    "import scipy"
   ]
  },
  {
   "cell_type": "code",
   "execution_count": null,
   "metadata": {},
   "outputs": [],
   "source": [
    "plt.rcParams['figure.figsize'] = [10., 10.]\n",
    "plt.rcParams['xtick.labelsize'] = 14\n",
    "plt.rcParams['ytick.labelsize'] = 14 \n",
    "plt.rcParams['axes.labelsize'] = 16\n",
    "plt.rcParams['axes.titlesize'] = 16\n",
    "plt.rcParams['legend.fontsize'] = 14"
   ]
  },
  {
   "cell_type": "markdown",
   "metadata": {},
   "source": [
    "# Expectation Maximization (EM) in 1d\n",
    "\n",
    "here we draw a few samples from two normal distributions, and then fit back two normal distributions via the EM algorithm"
   ]
  },
  {
   "cell_type": "code",
   "execution_count": null,
   "metadata": {},
   "outputs": [],
   "source": [
    "g1 = {'loc': 0, 'scale': 2}\n",
    "g2 = {'loc': 2, 'scale': 1}"
   ]
  },
  {
   "cell_type": "code",
   "execution_count": null,
   "metadata": {},
   "outputs": [],
   "source": [
    "x1 = stats.norm(**g1).rvs(20)\n",
    "x2 = stats.norm(**g2).rvs(20)"
   ]
  },
  {
   "cell_type": "code",
   "execution_count": null,
   "metadata": {},
   "outputs": [],
   "source": [
    "def E(x, c1, c2, e1, e2):\n",
    "    ''' Expectation Step '''\n",
    "    p1 = stats.norm(**c1).pdf(x)\n",
    "    p2 = stats.norm(**c2).pdf(x)\n",
    "    \n",
    "    e1[:] = p1 / (p1 + p2)\n",
    "    e2[:] = p2 / (p1 + p2)"
   ]
  },
  {
   "cell_type": "code",
   "execution_count": null,
   "metadata": {},
   "outputs": [],
   "source": [
    "def M(x, c1, c2, e1, e2):\n",
    "    ''' Maximization Step '''\n",
    "    c1['loc'] = np.average(x, weights=e1)\n",
    "    c2['loc'] = np.average(x, weights=e2)\n",
    "    \n",
    "    c1['scale'] = np.sqrt(np.average(np.square(x-c1['loc']), weights=e1))\n",
    "    c2['scale'] = np.sqrt(np.average(np.square(x-c2['loc']), weights=e2))"
   ]
  },
  {
   "cell_type": "code",
   "execution_count": null,
   "metadata": {},
   "outputs": [],
   "source": [
    "def plot(x, c1, c2, e1, e2):\n",
    "    xspace = np.linspace(-5, 5, 1000)\n",
    "    plt.plot(xspace, stats.norm(**c1).pdf(xspace), c='b')\n",
    "    plt.plot(xspace, stats.norm(**c2).pdf(xspace), c='r')\n",
    "    \n",
    "    plt.plot(xspace, stats.norm(**g1).pdf(xspace), c='k', ls='--', alpha=0.5)\n",
    "    plt.plot(xspace, stats.norm(**g2).pdf(xspace), c='k', ls='--', alpha=0.5)\n",
    "    \n",
    "    plt.scatter(x, np.zeros_like(x), s=100, c=e1, cmap='RdBu', edgecolor='k')"
   ]
  },
  {
   "cell_type": "code",
   "execution_count": null,
   "metadata": {},
   "outputs": [],
   "source": [
    "x = np.concatenate([x1, x2])"
   ]
  },
  {
   "cell_type": "code",
   "execution_count": null,
   "metadata": {},
   "outputs": [],
   "source": [
    "#random clusters init:\n",
    "\n",
    "c1 = {}\n",
    "c2 = {}\n",
    "\n",
    "c1['loc'] = np.random.rand()\n",
    "c2['loc'] = np.random.rand()\n",
    "c1['scale'] = np.random.rand()\n",
    "c2['scale'] = np.random.rand()"
   ]
  },
  {
   "cell_type": "code",
   "execution_count": null,
   "metadata": {},
   "outputs": [],
   "source": [
    "e1 = np.random.rand(x.size)\n",
    "e2 = np.random.rand(x.size)"
   ]
  },
  {
   "cell_type": "code",
   "execution_count": null,
   "metadata": {},
   "outputs": [],
   "source": [
    "E(x, c1, c2, e1, e2)"
   ]
  },
  {
   "cell_type": "markdown",
   "metadata": {},
   "source": [
    "This is how it looks like after random initialization"
   ]
  },
  {
   "cell_type": "code",
   "execution_count": null,
   "metadata": {},
   "outputs": [],
   "source": [
    "plot(x, c1, c2, e1, e2)"
   ]
  },
  {
   "cell_type": "markdown",
   "metadata": {},
   "source": [
    "After 3 iterations"
   ]
  },
  {
   "cell_type": "code",
   "execution_count": null,
   "metadata": {},
   "outputs": [],
   "source": [
    "for i in range(3):\n",
    "    E(x, c1, c2, e1, e2)\n",
    "    M(x, c1, c2, e1, e2)\n",
    "\n",
    "plot(x, c1, c2, e1, e2)"
   ]
  },
  {
   "cell_type": "markdown",
   "metadata": {},
   "source": [
    "After aother 3 iterations"
   ]
  },
  {
   "cell_type": "code",
   "execution_count": null,
   "metadata": {},
   "outputs": [],
   "source": [
    "for i in range(3):\n",
    "    E(x, c1, c2, e1, e2)\n",
    "    M(x, c1, c2, e1, e2)\n",
    "\n",
    "plot(x, c1, c2, e1, e2)"
   ]
  },
  {
   "cell_type": "markdown",
   "metadata": {},
   "source": [
    "And aother 3 iterations"
   ]
  },
  {
   "cell_type": "code",
   "execution_count": null,
   "metadata": {},
   "outputs": [],
   "source": [
    "for i in range(3):\n",
    "    E(x, c1, c2, e1, e2)\n",
    "    M(x, c1, c2, e1, e2)\n",
    "\n",
    "plot(x, c1, c2, e1, e2)"
   ]
  }
 ],
 "metadata": {
  "kernelspec": {
   "display_name": "Python 3",
   "language": "python",
   "name": "python3"
  },
  "language_info": {
   "codemirror_mode": {
    "name": "ipython",
    "version": 3
   },
   "file_extension": ".py",
   "mimetype": "text/x-python",
   "name": "python",
   "nbconvert_exporter": "python",
   "pygments_lexer": "ipython3",
   "version": "3.7.6"
  }
 },
 "nbformat": 4,
 "nbformat_minor": 4
}
