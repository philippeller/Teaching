{
 "cells": [
  {
   "cell_type": "markdown",
   "id": "a13d2799-c380-4a7b-9136-f7a9f3cce4bd",
   "metadata": {},
   "source": [
    "# Optimization\n",
    "\n",
    "## 1. Consider a simple function like f(x) = x**2\n",
    "\n",
    "(a) Devise an algorithm that uses a bisection strategy to approximate the minimum of f(x) in a given interval [a, b] via its analytic gradients."
   ]
  },
  {
   "cell_type": "code",
   "execution_count": 37,
   "id": "f6e85ee1-c75c-41e4-b311-c13e7b59946d",
   "metadata": {},
   "outputs": [],
   "source": [
    "def grad_f(x):\n",
    "    return 2*x \n",
    "\n",
    "def bisec_f(grad_f, interval, eps):\n",
    "    a = interval[0]\n",
    "    b = interval[1]\n",
    "    \n",
    "    if grad_f(a)*grad_f(b) >= 0:\n",
    "        return print('Error: f(a) and f(b) cannot be zero and must have different signs.')\n",
    "    \n",
    "    iterations = 0\n",
    "    \n",
    "    if grad_f(a) < 0:\n",
    "        x_neg = a\n",
    "        x_pos = b\n",
    "    else:\n",
    "        x_neg = b\n",
    "        x_pos = a\n",
    "            \n",
    "    while grad_f(x_neg)*grad_f(x_pos) < -eps**2:\n",
    "        \n",
    "        iterations += 1\n",
    "          \n",
    "        x = (x_neg + x_pos)/2\n",
    "        \n",
    "        if grad_f(x) < 0:\n",
    "            x_neg = x\n",
    "        elif grad_f(x) > 0:\n",
    "            x_pos = x\n",
    "        else:\n",
    "            x_neg = x\n",
    "            x_pos = x\n",
    "       \n",
    "    x0 = (x_neg + x_pos)/2\n",
    "    return [x0, iterations]\n",
    "\n"
   ]
  },
  {
   "cell_type": "markdown",
   "id": "b2e437cb-d968-4cd1-ab7c-9fd7d7ac6539",
   "metadata": {},
   "source": [
    "(b) Implement such an algorithm in a computer language, use analytic gradients."
   ]
  },
  {
   "cell_type": "code",
   "execution_count": 39,
   "id": "655ccb22-8e0a-41d1-98ac-ee84f4488c2f",
   "metadata": {},
   "outputs": [
    {
     "data": {
      "text/plain": [
       "[3.814697265625e-05, 18]"
      ]
     },
     "execution_count": 39,
     "metadata": {},
     "output_type": "execute_result"
    }
   ],
   "source": [
    "bisec_f(grad_f,[-80, 100.], 1e-3)"
   ]
  },
  {
   "cell_type": "code",
   "execution_count": null,
   "id": "d3e63177-7c92-4ccf-8081-b83afacf5319",
   "metadata": {},
   "outputs": [],
   "source": []
  }
 ],
 "metadata": {
  "kernelspec": {
   "display_name": "Python 3 (ipykernel)",
   "language": "python",
   "name": "python3"
  },
  "language_info": {
   "codemirror_mode": {
    "name": "ipython",
    "version": 3
   },
   "file_extension": ".py",
   "mimetype": "text/x-python",
   "name": "python",
   "nbconvert_exporter": "python",
   "pygments_lexer": "ipython3",
   "version": "3.9.12"
  }
 },
 "nbformat": 4,
 "nbformat_minor": 5
}
